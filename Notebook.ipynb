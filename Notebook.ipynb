{
 "cells": [
  {
   "cell_type": "markdown",
   "metadata": {},
   "source": [
    "# Ganancias y riesgos potenciales."
   ]
  },
  {
   "cell_type": "markdown",
   "metadata": {},
   "source": [
    "# Indice\n",
    "\n",
    "1. [Descripción del proyecto.](#Descripción-del-proyecto.).\n",
    "2. [Introducción.](#Introducción.)\n",
    "3. [Pasos iniciales.](#Pasos-iniciales.)\n",
    "4. [Entrenamiento y prueba del modelo.](#Entrenamiento-y-prueba-del-modelo.)\n",
    "5. [Calculando ganancias y riesgos.](#Calculando-ganancias-y-riesgos.)\n",
    "6. [Conclusión.](#Conclusión.)"
   ]
  },
  {
   "cell_type": "markdown",
   "metadata": {},
   "source": [
    "## Descripción del proyecto.\n",
    "\n",
    "Trabajas en la compañía de extracción de petróleo OilyGiant. Tu tarea es encontrar los mejores lugares donde abrir 200 pozos nuevos de petróleo.\n",
    "Tienes datos sobre muestras de crudo de tres regiones. Ya se conocen los parámetros de cada pozo petrolero de la región. Crea un modelo que ayude a elegir la región con el mayor margen de beneficio. Analiza los beneficios y riesgos potenciales utilizando la técnica bootstrapping."
   ]
  },
  {
   "cell_type": "markdown",
   "metadata": {},
   "source": [
    "## Introducción.\n",
    "\n",
    "La industria petrolera enfrenta continuamente el desafío de maximizar la rentabilidad en proyectos de exploración y extracción de petróleo. Este proyecto, en colaboración con **OilyGiant**, busca identificar las ubicaciones más rentables para la construcción de **200 pozos de petróleo** en una de las tres regiones candidatas, optimizando así el uso del capital y los recursos. La meta final es elegir la región con el mayor potencial de beneficios y el menor riesgo de pérdida, basándonos en modelos predictivos y en un análisis de riesgo detallado.\n",
    "\n",
    "Para lograr este objetivo, se cuenta con datos geológicos detallados de cada región, que incluyen la calidad del crudo y el volumen estimado de reservas. Estos datos serán utilizados para desarrollar un **modelo de regresión lineal** capaz de predecir el volumen de reservas en pozos no perforados aún. Posteriormente, se evaluarán los pozos con las reservas más altas y se calcularán los ingresos brutos estimados para cada región. Utilizando la técnica de **bootstrapping**, se estimarán tanto los beneficios como los riesgos potenciales, y solo se considerarán las regiones con un riesgo de pérdida menor al **2.5%**.\n",
    "\n",
    "La selección final de la región se basará en los siguientes pasos:\n",
    "\n",
    "1. **Análisis Exploratorio de los Datos**: Cargar y explorar los archivos geológicos de las tres regiones (`geo_data_0`, `geo_data_1` y `geo_data_2`) para obtener una comprensión inicial de las reservas disponibles y las características de los pozos.\n",
    "\n",
    "2. **Entrenamiento del Modelo Predictivo**: Crear un modelo de **regresión lineal** que prediga el volumen de reservas en pozos no perforados con base en tres características clave de cada punto.\n",
    "\n",
    "3. **Evaluación de Rentabilidad**: Seleccionar los **200 pozos con mayores reservas** en cada región y calcular el ingreso bruto estimado para los pozos seleccionados, utilizando el precio de **4.5 USD por barril** (con un volumen de reserva de 1000 barriles por unidad).\n",
    "\n",
    "4. **Análisis de Riesgo con Bootstrapping**: Emplear bootstrapping para calcular el **intervalo de confianza del 95%** y evaluar el riesgo de pérdida en cada región, asegurando que este riesgo sea inferior al 2.5%.\n",
    "\n",
    "5. **Selección de la Región Óptima**: Finalmente, elegir la región que maximice los beneficios esperados y cumpla con el criterio de bajo riesgo.\n",
    "\n",
    "La inversión inicial estimada para desarrollar los 200 pozos es de **100 millones de dólares**, por lo que cada pozo deberá cumplir con los criterios de rentabilidad establecidos. Con este análisis integral, esperamos proporcionar una recomendación sólida sobre la región que mejor maximizará la rentabilidad y el retorno de inversión de **OilyGiant**."
   ]
  },
  {
   "cell_type": "markdown",
   "metadata": {},
   "source": [
    "## Pasos iniciales.\n",
    "En esta sección, se llevará a cabo la carga de todas las librerías esenciales para el desarrollo del proyecto. Asimismo, se procederá a importar los datos desde archivos CSV, almacenándolos en DataFrames de pandas para facilitar su manipulación y análisis. Por último, se realizará una exploración inicial de los datos, permitiendo obtener una visión general y detectar posibles tendencias o anomalías."
   ]
  },
  {
   "cell_type": "markdown",
   "metadata": {},
   "source": [
    "### Inicialización.\n",
    "\n",
    "La carga de librerías es un paso fundamental en el desarrollo de cualquier proyecto. En este caso particular, se utilizarán las siguientes:\n",
    "\n",
    "1. **matplotlib**: para la creación de gráficos que permitan visualizar los datos.\n",
    "2. **pandas**: para la manipulación y análisis de los datos proporcionados para el proyecto.\n",
    "3. **numpy**: específicamente su módulo `random`, para garantizar la reproducibilidad de los resultados al entrenar modelos y realizar predicciones.\n",
    "4. **IPython**: se usará el módulo `display` para imprimir múltiples tablas en una sola celda, facilitando la visualización de los datos.\n",
    "5. **sklearn**: para todas las tareas relacionadas con machine learning.\n",
    "\n",
    "Con estas librerías se implementará el desarrollo del proyecto."
   ]
  },
  {
   "cell_type": "code",
   "execution_count": 1,
   "metadata": {},
   "outputs": [],
   "source": [
    "import matplotlib.pyplot as plt\n",
    "# import seaborn as sns\n",
    "import pandas as pd\n",
    "import numpy as np\n",
    "from IPython.display import display\n",
    "from sklearn.linear_model import LinearRegression\n",
    "from sklearn.preprocessing import StandardScaler\n",
    "from sklearn.model_selection import train_test_split\n",
    "from sklearn.metrics import mean_squared_error"
   ]
  },
  {
   "cell_type": "markdown",
   "metadata": {},
   "source": [
    "### Cargar datos.\n",
    "\n",
    "Los archivos CSV se cargarán en tres DataFrames diferentes: `df_geo_data_0`, `df_geo_data_1` y `df_geo_data_2`. Estos DataFrames serán la base de los análisis y las operaciones de manipulación de datos a lo largo del proyecto."
   ]
  },
  {
   "cell_type": "code",
   "execution_count": 2,
   "metadata": {},
   "outputs": [],
   "source": [
    "df_geo_data_0 = pd.read_csv('/datasets/geo_data_0.csv')\n",
    "\n",
    "df_geo_data_1 = pd.read_csv('/datasets/geo_data_1.csv')\n",
    "\n",
    "df_geo_data_2 = pd.read_csv('/datasets/geo_data_2.csv')\n"
   ]
  },
  {
   "cell_type": "markdown",
   "metadata": {},
   "source": [
    "### Exploración de datos (EDA).\n",
    "\n",
    "En esta sección se realizará una exploración preliminar del conjunto de datos, con el objetivo de identificar posibles errores y comprender su estructura general. Este análisis inicial permitirá detectar inconsistencias, valores faltantes y otros problemas."
   ]
  },
  {
   "cell_type": "code",
   "execution_count": 3,
   "metadata": {},
   "outputs": [],
   "source": [
    "# La funcion e_d_a() recibe un DateFrame e imprime en el display información general.\n",
    "def e_d_a( df:pd.DataFrame ):\n",
    "    print('###Información general del Data Frame###\\n')\n",
    "    display(df.info())\n",
    "    print('\\n###Estadisticas generales del Data Frame###')\n",
    "    display(df.describe())\n",
    "    print('\\n###Muestras aleatorias de los datos###')\n",
    "    display(df.sample(10))"
   ]
  },
  {
   "cell_type": "markdown",
   "metadata": {},
   "source": [
    "La función `e_d_a()` será de gran utilidad en esta sección, ya que evitará la repetición de código. Esta función recibe un DataFrame de pandas como parámetro y aplica los métodos `info()`, `describe()` y `sample()` para proporcionar una visión general de los datos. Posteriormente, imprime los gráficos correspondientes en pantalla, facilitando la exploración inicial de los datos."
   ]
  },
  {
   "cell_type": "markdown",
   "metadata": {},
   "source": [
    "#### Data Frame df_geo_data_0."
   ]
  },
  {
   "cell_type": "code",
   "execution_count": 4,
   "metadata": {},
   "outputs": [
    {
     "name": "stdout",
     "output_type": "stream",
     "text": [
      "###Información general del Data Frame###\n",
      "\n",
      "<class 'pandas.core.frame.DataFrame'>\n",
      "RangeIndex: 100000 entries, 0 to 99999\n",
      "Data columns (total 5 columns):\n",
      " #   Column   Non-Null Count   Dtype  \n",
      "---  ------   --------------   -----  \n",
      " 0   id       100000 non-null  object \n",
      " 1   f0       100000 non-null  float64\n",
      " 2   f1       100000 non-null  float64\n",
      " 3   f2       100000 non-null  float64\n",
      " 4   product  100000 non-null  float64\n",
      "dtypes: float64(4), object(1)\n",
      "memory usage: 3.8+ MB\n"
     ]
    },
    {
     "data": {
      "text/plain": [
       "None"
      ]
     },
     "metadata": {},
     "output_type": "display_data"
    },
    {
     "name": "stdout",
     "output_type": "stream",
     "text": [
      "\n",
      "###Estadisticas generales del Data Frame###\n"
     ]
    },
    {
     "data": {
      "text/html": [
       "<div>\n",
       "<style scoped>\n",
       "    .dataframe tbody tr th:only-of-type {\n",
       "        vertical-align: middle;\n",
       "    }\n",
       "\n",
       "    .dataframe tbody tr th {\n",
       "        vertical-align: top;\n",
       "    }\n",
       "\n",
       "    .dataframe thead th {\n",
       "        text-align: right;\n",
       "    }\n",
       "</style>\n",
       "<table border=\"1\" class=\"dataframe\">\n",
       "  <thead>\n",
       "    <tr style=\"text-align: right;\">\n",
       "      <th></th>\n",
       "      <th>f0</th>\n",
       "      <th>f1</th>\n",
       "      <th>f2</th>\n",
       "      <th>product</th>\n",
       "    </tr>\n",
       "  </thead>\n",
       "  <tbody>\n",
       "    <tr>\n",
       "      <th>count</th>\n",
       "      <td>100000.000000</td>\n",
       "      <td>100000.000000</td>\n",
       "      <td>100000.000000</td>\n",
       "      <td>100000.000000</td>\n",
       "    </tr>\n",
       "    <tr>\n",
       "      <th>mean</th>\n",
       "      <td>0.500419</td>\n",
       "      <td>0.250143</td>\n",
       "      <td>2.502647</td>\n",
       "      <td>92.500000</td>\n",
       "    </tr>\n",
       "    <tr>\n",
       "      <th>std</th>\n",
       "      <td>0.871832</td>\n",
       "      <td>0.504433</td>\n",
       "      <td>3.248248</td>\n",
       "      <td>44.288691</td>\n",
       "    </tr>\n",
       "    <tr>\n",
       "      <th>min</th>\n",
       "      <td>-1.408605</td>\n",
       "      <td>-0.848218</td>\n",
       "      <td>-12.088328</td>\n",
       "      <td>0.000000</td>\n",
       "    </tr>\n",
       "    <tr>\n",
       "      <th>25%</th>\n",
       "      <td>-0.072580</td>\n",
       "      <td>-0.200881</td>\n",
       "      <td>0.287748</td>\n",
       "      <td>56.497507</td>\n",
       "    </tr>\n",
       "    <tr>\n",
       "      <th>50%</th>\n",
       "      <td>0.502360</td>\n",
       "      <td>0.250252</td>\n",
       "      <td>2.515969</td>\n",
       "      <td>91.849972</td>\n",
       "    </tr>\n",
       "    <tr>\n",
       "      <th>75%</th>\n",
       "      <td>1.073581</td>\n",
       "      <td>0.700646</td>\n",
       "      <td>4.715088</td>\n",
       "      <td>128.564089</td>\n",
       "    </tr>\n",
       "    <tr>\n",
       "      <th>max</th>\n",
       "      <td>2.362331</td>\n",
       "      <td>1.343769</td>\n",
       "      <td>16.003790</td>\n",
       "      <td>185.364347</td>\n",
       "    </tr>\n",
       "  </tbody>\n",
       "</table>\n",
       "</div>"
      ],
      "text/plain": [
       "                  f0             f1             f2        product\n",
       "count  100000.000000  100000.000000  100000.000000  100000.000000\n",
       "mean        0.500419       0.250143       2.502647      92.500000\n",
       "std         0.871832       0.504433       3.248248      44.288691\n",
       "min        -1.408605      -0.848218     -12.088328       0.000000\n",
       "25%        -0.072580      -0.200881       0.287748      56.497507\n",
       "50%         0.502360       0.250252       2.515969      91.849972\n",
       "75%         1.073581       0.700646       4.715088     128.564089\n",
       "max         2.362331       1.343769      16.003790     185.364347"
      ]
     },
     "metadata": {},
     "output_type": "display_data"
    },
    {
     "name": "stdout",
     "output_type": "stream",
     "text": [
      "\n",
      "###Muestras aleatorias de los datos###\n"
     ]
    },
    {
     "data": {
      "text/html": [
       "<div>\n",
       "<style scoped>\n",
       "    .dataframe tbody tr th:only-of-type {\n",
       "        vertical-align: middle;\n",
       "    }\n",
       "\n",
       "    .dataframe tbody tr th {\n",
       "        vertical-align: top;\n",
       "    }\n",
       "\n",
       "    .dataframe thead th {\n",
       "        text-align: right;\n",
       "    }\n",
       "</style>\n",
       "<table border=\"1\" class=\"dataframe\">\n",
       "  <thead>\n",
       "    <tr style=\"text-align: right;\">\n",
       "      <th></th>\n",
       "      <th>id</th>\n",
       "      <th>f0</th>\n",
       "      <th>f1</th>\n",
       "      <th>f2</th>\n",
       "      <th>product</th>\n",
       "    </tr>\n",
       "  </thead>\n",
       "  <tbody>\n",
       "    <tr>\n",
       "      <th>82487</th>\n",
       "      <td>NXG5D</td>\n",
       "      <td>0.848795</td>\n",
       "      <td>0.104505</td>\n",
       "      <td>4.946687</td>\n",
       "      <td>33.689280</td>\n",
       "    </tr>\n",
       "    <tr>\n",
       "      <th>79796</th>\n",
       "      <td>TsQ9t</td>\n",
       "      <td>0.252998</td>\n",
       "      <td>1.044214</td>\n",
       "      <td>2.336749</td>\n",
       "      <td>59.375148</td>\n",
       "    </tr>\n",
       "    <tr>\n",
       "      <th>2680</th>\n",
       "      <td>5MW2e</td>\n",
       "      <td>-0.340289</td>\n",
       "      <td>1.087822</td>\n",
       "      <td>2.387854</td>\n",
       "      <td>119.196846</td>\n",
       "    </tr>\n",
       "    <tr>\n",
       "      <th>64837</th>\n",
       "      <td>IGwB7</td>\n",
       "      <td>0.752871</td>\n",
       "      <td>-0.326420</td>\n",
       "      <td>2.488522</td>\n",
       "      <td>112.919037</td>\n",
       "    </tr>\n",
       "    <tr>\n",
       "      <th>24787</th>\n",
       "      <td>D1dxL</td>\n",
       "      <td>1.035246</td>\n",
       "      <td>-0.435600</td>\n",
       "      <td>4.213503</td>\n",
       "      <td>149.349302</td>\n",
       "    </tr>\n",
       "    <tr>\n",
       "      <th>38646</th>\n",
       "      <td>yQvQp</td>\n",
       "      <td>-0.977934</td>\n",
       "      <td>0.405496</td>\n",
       "      <td>1.366078</td>\n",
       "      <td>36.678043</td>\n",
       "    </tr>\n",
       "    <tr>\n",
       "      <th>77176</th>\n",
       "      <td>XS6uz</td>\n",
       "      <td>0.039859</td>\n",
       "      <td>0.320448</td>\n",
       "      <td>4.370007</td>\n",
       "      <td>107.220505</td>\n",
       "    </tr>\n",
       "    <tr>\n",
       "      <th>40823</th>\n",
       "      <td>UTf7x</td>\n",
       "      <td>-0.736263</td>\n",
       "      <td>0.434236</td>\n",
       "      <td>4.406430</td>\n",
       "      <td>127.400292</td>\n",
       "    </tr>\n",
       "    <tr>\n",
       "      <th>75275</th>\n",
       "      <td>PBtzy</td>\n",
       "      <td>1.685613</td>\n",
       "      <td>-0.120671</td>\n",
       "      <td>-0.910162</td>\n",
       "      <td>77.373111</td>\n",
       "    </tr>\n",
       "    <tr>\n",
       "      <th>28373</th>\n",
       "      <td>NKZm3</td>\n",
       "      <td>0.659335</td>\n",
       "      <td>-0.406632</td>\n",
       "      <td>8.716707</td>\n",
       "      <td>181.571616</td>\n",
       "    </tr>\n",
       "  </tbody>\n",
       "</table>\n",
       "</div>"
      ],
      "text/plain": [
       "          id        f0        f1        f2     product\n",
       "82487  NXG5D  0.848795  0.104505  4.946687   33.689280\n",
       "79796  TsQ9t  0.252998  1.044214  2.336749   59.375148\n",
       "2680   5MW2e -0.340289  1.087822  2.387854  119.196846\n",
       "64837  IGwB7  0.752871 -0.326420  2.488522  112.919037\n",
       "24787  D1dxL  1.035246 -0.435600  4.213503  149.349302\n",
       "38646  yQvQp -0.977934  0.405496  1.366078   36.678043\n",
       "77176  XS6uz  0.039859  0.320448  4.370007  107.220505\n",
       "40823  UTf7x -0.736263  0.434236  4.406430  127.400292\n",
       "75275  PBtzy  1.685613 -0.120671 -0.910162   77.373111\n",
       "28373  NKZm3  0.659335 -0.406632  8.716707  181.571616"
      ]
     },
     "metadata": {},
     "output_type": "display_data"
    }
   ],
   "source": [
    "e_d_a(df_geo_data_0)"
   ]
  },
  {
   "cell_type": "markdown",
   "metadata": {},
   "source": [
    "#### Data Frame df_geo_data_1."
   ]
  },
  {
   "cell_type": "code",
   "execution_count": 5,
   "metadata": {},
   "outputs": [
    {
     "name": "stdout",
     "output_type": "stream",
     "text": [
      "###Información general del Data Frame###\n",
      "\n",
      "<class 'pandas.core.frame.DataFrame'>\n",
      "RangeIndex: 100000 entries, 0 to 99999\n",
      "Data columns (total 5 columns):\n",
      " #   Column   Non-Null Count   Dtype  \n",
      "---  ------   --------------   -----  \n",
      " 0   id       100000 non-null  object \n",
      " 1   f0       100000 non-null  float64\n",
      " 2   f1       100000 non-null  float64\n",
      " 3   f2       100000 non-null  float64\n",
      " 4   product  100000 non-null  float64\n",
      "dtypes: float64(4), object(1)\n",
      "memory usage: 3.8+ MB\n"
     ]
    },
    {
     "data": {
      "text/plain": [
       "None"
      ]
     },
     "metadata": {},
     "output_type": "display_data"
    },
    {
     "name": "stdout",
     "output_type": "stream",
     "text": [
      "\n",
      "###Estadisticas generales del Data Frame###\n"
     ]
    },
    {
     "data": {
      "text/html": [
       "<div>\n",
       "<style scoped>\n",
       "    .dataframe tbody tr th:only-of-type {\n",
       "        vertical-align: middle;\n",
       "    }\n",
       "\n",
       "    .dataframe tbody tr th {\n",
       "        vertical-align: top;\n",
       "    }\n",
       "\n",
       "    .dataframe thead th {\n",
       "        text-align: right;\n",
       "    }\n",
       "</style>\n",
       "<table border=\"1\" class=\"dataframe\">\n",
       "  <thead>\n",
       "    <tr style=\"text-align: right;\">\n",
       "      <th></th>\n",
       "      <th>f0</th>\n",
       "      <th>f1</th>\n",
       "      <th>f2</th>\n",
       "      <th>product</th>\n",
       "    </tr>\n",
       "  </thead>\n",
       "  <tbody>\n",
       "    <tr>\n",
       "      <th>count</th>\n",
       "      <td>100000.000000</td>\n",
       "      <td>100000.000000</td>\n",
       "      <td>100000.000000</td>\n",
       "      <td>100000.000000</td>\n",
       "    </tr>\n",
       "    <tr>\n",
       "      <th>mean</th>\n",
       "      <td>1.141296</td>\n",
       "      <td>-4.796579</td>\n",
       "      <td>2.494541</td>\n",
       "      <td>68.825000</td>\n",
       "    </tr>\n",
       "    <tr>\n",
       "      <th>std</th>\n",
       "      <td>8.965932</td>\n",
       "      <td>5.119872</td>\n",
       "      <td>1.703572</td>\n",
       "      <td>45.944423</td>\n",
       "    </tr>\n",
       "    <tr>\n",
       "      <th>min</th>\n",
       "      <td>-31.609576</td>\n",
       "      <td>-26.358598</td>\n",
       "      <td>-0.018144</td>\n",
       "      <td>0.000000</td>\n",
       "    </tr>\n",
       "    <tr>\n",
       "      <th>25%</th>\n",
       "      <td>-6.298551</td>\n",
       "      <td>-8.267985</td>\n",
       "      <td>1.000021</td>\n",
       "      <td>26.953261</td>\n",
       "    </tr>\n",
       "    <tr>\n",
       "      <th>50%</th>\n",
       "      <td>1.153055</td>\n",
       "      <td>-4.813172</td>\n",
       "      <td>2.011479</td>\n",
       "      <td>57.085625</td>\n",
       "    </tr>\n",
       "    <tr>\n",
       "      <th>75%</th>\n",
       "      <td>8.621015</td>\n",
       "      <td>-1.332816</td>\n",
       "      <td>3.999904</td>\n",
       "      <td>107.813044</td>\n",
       "    </tr>\n",
       "    <tr>\n",
       "      <th>max</th>\n",
       "      <td>29.421755</td>\n",
       "      <td>18.734063</td>\n",
       "      <td>5.019721</td>\n",
       "      <td>137.945408</td>\n",
       "    </tr>\n",
       "  </tbody>\n",
       "</table>\n",
       "</div>"
      ],
      "text/plain": [
       "                  f0             f1             f2        product\n",
       "count  100000.000000  100000.000000  100000.000000  100000.000000\n",
       "mean        1.141296      -4.796579       2.494541      68.825000\n",
       "std         8.965932       5.119872       1.703572      45.944423\n",
       "min       -31.609576     -26.358598      -0.018144       0.000000\n",
       "25%        -6.298551      -8.267985       1.000021      26.953261\n",
       "50%         1.153055      -4.813172       2.011479      57.085625\n",
       "75%         8.621015      -1.332816       3.999904     107.813044\n",
       "max        29.421755      18.734063       5.019721     137.945408"
      ]
     },
     "metadata": {},
     "output_type": "display_data"
    },
    {
     "name": "stdout",
     "output_type": "stream",
     "text": [
      "\n",
      "###Muestras aleatorias de los datos###\n"
     ]
    },
    {
     "data": {
      "text/html": [
       "<div>\n",
       "<style scoped>\n",
       "    .dataframe tbody tr th:only-of-type {\n",
       "        vertical-align: middle;\n",
       "    }\n",
       "\n",
       "    .dataframe tbody tr th {\n",
       "        vertical-align: top;\n",
       "    }\n",
       "\n",
       "    .dataframe thead th {\n",
       "        text-align: right;\n",
       "    }\n",
       "</style>\n",
       "<table border=\"1\" class=\"dataframe\">\n",
       "  <thead>\n",
       "    <tr style=\"text-align: right;\">\n",
       "      <th></th>\n",
       "      <th>id</th>\n",
       "      <th>f0</th>\n",
       "      <th>f1</th>\n",
       "      <th>f2</th>\n",
       "      <th>product</th>\n",
       "    </tr>\n",
       "  </thead>\n",
       "  <tbody>\n",
       "    <tr>\n",
       "      <th>16909</th>\n",
       "      <td>0tDgJ</td>\n",
       "      <td>15.998475</td>\n",
       "      <td>-4.177209</td>\n",
       "      <td>2.997345</td>\n",
       "      <td>80.859783</td>\n",
       "    </tr>\n",
       "    <tr>\n",
       "      <th>32069</th>\n",
       "      <td>5kYxM</td>\n",
       "      <td>12.484673</td>\n",
       "      <td>-7.934629</td>\n",
       "      <td>1.005238</td>\n",
       "      <td>26.953261</td>\n",
       "    </tr>\n",
       "    <tr>\n",
       "      <th>43270</th>\n",
       "      <td>kXd3p</td>\n",
       "      <td>11.506736</td>\n",
       "      <td>-5.162796</td>\n",
       "      <td>0.009030</td>\n",
       "      <td>0.000000</td>\n",
       "    </tr>\n",
       "    <tr>\n",
       "      <th>25564</th>\n",
       "      <td>hgJ0M</td>\n",
       "      <td>-14.962292</td>\n",
       "      <td>-4.417217</td>\n",
       "      <td>3.998374</td>\n",
       "      <td>110.992147</td>\n",
       "    </tr>\n",
       "    <tr>\n",
       "      <th>1130</th>\n",
       "      <td>MZ7iK</td>\n",
       "      <td>4.733250</td>\n",
       "      <td>-11.416585</td>\n",
       "      <td>1.006078</td>\n",
       "      <td>26.953261</td>\n",
       "    </tr>\n",
       "    <tr>\n",
       "      <th>98145</th>\n",
       "      <td>Arggo</td>\n",
       "      <td>-1.478288</td>\n",
       "      <td>-9.290805</td>\n",
       "      <td>2.994644</td>\n",
       "      <td>84.038886</td>\n",
       "    </tr>\n",
       "    <tr>\n",
       "      <th>25499</th>\n",
       "      <td>zVT98</td>\n",
       "      <td>9.930343</td>\n",
       "      <td>0.033132</td>\n",
       "      <td>5.004428</td>\n",
       "      <td>134.766305</td>\n",
       "    </tr>\n",
       "    <tr>\n",
       "      <th>20468</th>\n",
       "      <td>TdpP5</td>\n",
       "      <td>-9.320191</td>\n",
       "      <td>-19.662348</td>\n",
       "      <td>0.998898</td>\n",
       "      <td>30.132364</td>\n",
       "    </tr>\n",
       "    <tr>\n",
       "      <th>91882</th>\n",
       "      <td>Lbut4</td>\n",
       "      <td>-1.943497</td>\n",
       "      <td>-1.684430</td>\n",
       "      <td>2.002304</td>\n",
       "      <td>57.085625</td>\n",
       "    </tr>\n",
       "    <tr>\n",
       "      <th>7738</th>\n",
       "      <td>kn1sG</td>\n",
       "      <td>4.320606</td>\n",
       "      <td>-6.471795</td>\n",
       "      <td>-0.008805</td>\n",
       "      <td>0.000000</td>\n",
       "    </tr>\n",
       "  </tbody>\n",
       "</table>\n",
       "</div>"
      ],
      "text/plain": [
       "          id         f0         f1        f2     product\n",
       "16909  0tDgJ  15.998475  -4.177209  2.997345   80.859783\n",
       "32069  5kYxM  12.484673  -7.934629  1.005238   26.953261\n",
       "43270  kXd3p  11.506736  -5.162796  0.009030    0.000000\n",
       "25564  hgJ0M -14.962292  -4.417217  3.998374  110.992147\n",
       "1130   MZ7iK   4.733250 -11.416585  1.006078   26.953261\n",
       "98145  Arggo  -1.478288  -9.290805  2.994644   84.038886\n",
       "25499  zVT98   9.930343   0.033132  5.004428  134.766305\n",
       "20468  TdpP5  -9.320191 -19.662348  0.998898   30.132364\n",
       "91882  Lbut4  -1.943497  -1.684430  2.002304   57.085625\n",
       "7738   kn1sG   4.320606  -6.471795 -0.008805    0.000000"
      ]
     },
     "metadata": {},
     "output_type": "display_data"
    }
   ],
   "source": [
    "e_d_a(df_geo_data_1)"
   ]
  },
  {
   "cell_type": "markdown",
   "metadata": {},
   "source": [
    "#### Data Frame df_geo_data_2."
   ]
  },
  {
   "cell_type": "code",
   "execution_count": 6,
   "metadata": {},
   "outputs": [
    {
     "name": "stdout",
     "output_type": "stream",
     "text": [
      "###Información general del Data Frame###\n",
      "\n",
      "<class 'pandas.core.frame.DataFrame'>\n",
      "RangeIndex: 100000 entries, 0 to 99999\n",
      "Data columns (total 5 columns):\n",
      " #   Column   Non-Null Count   Dtype  \n",
      "---  ------   --------------   -----  \n",
      " 0   id       100000 non-null  object \n",
      " 1   f0       100000 non-null  float64\n",
      " 2   f1       100000 non-null  float64\n",
      " 3   f2       100000 non-null  float64\n",
      " 4   product  100000 non-null  float64\n",
      "dtypes: float64(4), object(1)\n",
      "memory usage: 3.8+ MB\n"
     ]
    },
    {
     "data": {
      "text/plain": [
       "None"
      ]
     },
     "metadata": {},
     "output_type": "display_data"
    },
    {
     "name": "stdout",
     "output_type": "stream",
     "text": [
      "\n",
      "###Estadisticas generales del Data Frame###\n"
     ]
    },
    {
     "data": {
      "text/html": [
       "<div>\n",
       "<style scoped>\n",
       "    .dataframe tbody tr th:only-of-type {\n",
       "        vertical-align: middle;\n",
       "    }\n",
       "\n",
       "    .dataframe tbody tr th {\n",
       "        vertical-align: top;\n",
       "    }\n",
       "\n",
       "    .dataframe thead th {\n",
       "        text-align: right;\n",
       "    }\n",
       "</style>\n",
       "<table border=\"1\" class=\"dataframe\">\n",
       "  <thead>\n",
       "    <tr style=\"text-align: right;\">\n",
       "      <th></th>\n",
       "      <th>f0</th>\n",
       "      <th>f1</th>\n",
       "      <th>f2</th>\n",
       "      <th>product</th>\n",
       "    </tr>\n",
       "  </thead>\n",
       "  <tbody>\n",
       "    <tr>\n",
       "      <th>count</th>\n",
       "      <td>100000.000000</td>\n",
       "      <td>100000.000000</td>\n",
       "      <td>100000.000000</td>\n",
       "      <td>100000.000000</td>\n",
       "    </tr>\n",
       "    <tr>\n",
       "      <th>mean</th>\n",
       "      <td>0.002023</td>\n",
       "      <td>-0.002081</td>\n",
       "      <td>2.495128</td>\n",
       "      <td>95.000000</td>\n",
       "    </tr>\n",
       "    <tr>\n",
       "      <th>std</th>\n",
       "      <td>1.732045</td>\n",
       "      <td>1.730417</td>\n",
       "      <td>3.473445</td>\n",
       "      <td>44.749921</td>\n",
       "    </tr>\n",
       "    <tr>\n",
       "      <th>min</th>\n",
       "      <td>-8.760004</td>\n",
       "      <td>-7.084020</td>\n",
       "      <td>-11.970335</td>\n",
       "      <td>0.000000</td>\n",
       "    </tr>\n",
       "    <tr>\n",
       "      <th>25%</th>\n",
       "      <td>-1.162288</td>\n",
       "      <td>-1.174820</td>\n",
       "      <td>0.130359</td>\n",
       "      <td>59.450441</td>\n",
       "    </tr>\n",
       "    <tr>\n",
       "      <th>50%</th>\n",
       "      <td>0.009424</td>\n",
       "      <td>-0.009482</td>\n",
       "      <td>2.484236</td>\n",
       "      <td>94.925613</td>\n",
       "    </tr>\n",
       "    <tr>\n",
       "      <th>75%</th>\n",
       "      <td>1.158535</td>\n",
       "      <td>1.163678</td>\n",
       "      <td>4.858794</td>\n",
       "      <td>130.595027</td>\n",
       "    </tr>\n",
       "    <tr>\n",
       "      <th>max</th>\n",
       "      <td>7.238262</td>\n",
       "      <td>7.844801</td>\n",
       "      <td>16.739402</td>\n",
       "      <td>190.029838</td>\n",
       "    </tr>\n",
       "  </tbody>\n",
       "</table>\n",
       "</div>"
      ],
      "text/plain": [
       "                  f0             f1             f2        product\n",
       "count  100000.000000  100000.000000  100000.000000  100000.000000\n",
       "mean        0.002023      -0.002081       2.495128      95.000000\n",
       "std         1.732045       1.730417       3.473445      44.749921\n",
       "min        -8.760004      -7.084020     -11.970335       0.000000\n",
       "25%        -1.162288      -1.174820       0.130359      59.450441\n",
       "50%         0.009424      -0.009482       2.484236      94.925613\n",
       "75%         1.158535       1.163678       4.858794     130.595027\n",
       "max         7.238262       7.844801      16.739402     190.029838"
      ]
     },
     "metadata": {},
     "output_type": "display_data"
    },
    {
     "name": "stdout",
     "output_type": "stream",
     "text": [
      "\n",
      "###Muestras aleatorias de los datos###\n"
     ]
    },
    {
     "data": {
      "text/html": [
       "<div>\n",
       "<style scoped>\n",
       "    .dataframe tbody tr th:only-of-type {\n",
       "        vertical-align: middle;\n",
       "    }\n",
       "\n",
       "    .dataframe tbody tr th {\n",
       "        vertical-align: top;\n",
       "    }\n",
       "\n",
       "    .dataframe thead th {\n",
       "        text-align: right;\n",
       "    }\n",
       "</style>\n",
       "<table border=\"1\" class=\"dataframe\">\n",
       "  <thead>\n",
       "    <tr style=\"text-align: right;\">\n",
       "      <th></th>\n",
       "      <th>id</th>\n",
       "      <th>f0</th>\n",
       "      <th>f1</th>\n",
       "      <th>f2</th>\n",
       "      <th>product</th>\n",
       "    </tr>\n",
       "  </thead>\n",
       "  <tbody>\n",
       "    <tr>\n",
       "      <th>72255</th>\n",
       "      <td>3L95c</td>\n",
       "      <td>0.709355</td>\n",
       "      <td>-2.103284</td>\n",
       "      <td>9.255990</td>\n",
       "      <td>165.748832</td>\n",
       "    </tr>\n",
       "    <tr>\n",
       "      <th>37613</th>\n",
       "      <td>qel4N</td>\n",
       "      <td>2.635663</td>\n",
       "      <td>0.276385</td>\n",
       "      <td>6.874464</td>\n",
       "      <td>81.332350</td>\n",
       "    </tr>\n",
       "    <tr>\n",
       "      <th>68934</th>\n",
       "      <td>TdNXL</td>\n",
       "      <td>0.651572</td>\n",
       "      <td>-3.847421</td>\n",
       "      <td>2.768356</td>\n",
       "      <td>157.412843</td>\n",
       "    </tr>\n",
       "    <tr>\n",
       "      <th>91066</th>\n",
       "      <td>s1w5X</td>\n",
       "      <td>1.798775</td>\n",
       "      <td>2.196174</td>\n",
       "      <td>8.818360</td>\n",
       "      <td>150.275359</td>\n",
       "    </tr>\n",
       "    <tr>\n",
       "      <th>63181</th>\n",
       "      <td>scY1z</td>\n",
       "      <td>-1.118097</td>\n",
       "      <td>-0.040658</td>\n",
       "      <td>7.561993</td>\n",
       "      <td>99.579702</td>\n",
       "    </tr>\n",
       "    <tr>\n",
       "      <th>13956</th>\n",
       "      <td>H4mqQ</td>\n",
       "      <td>3.864435</td>\n",
       "      <td>1.974888</td>\n",
       "      <td>7.964040</td>\n",
       "      <td>159.197706</td>\n",
       "    </tr>\n",
       "    <tr>\n",
       "      <th>20082</th>\n",
       "      <td>PizAy</td>\n",
       "      <td>0.355675</td>\n",
       "      <td>2.004378</td>\n",
       "      <td>0.518160</td>\n",
       "      <td>3.121821</td>\n",
       "    </tr>\n",
       "    <tr>\n",
       "      <th>39476</th>\n",
       "      <td>9ZjG3</td>\n",
       "      <td>1.244497</td>\n",
       "      <td>-2.578916</td>\n",
       "      <td>-2.725206</td>\n",
       "      <td>103.287771</td>\n",
       "    </tr>\n",
       "    <tr>\n",
       "      <th>37</th>\n",
       "      <td>FmeFh</td>\n",
       "      <td>1.549409</td>\n",
       "      <td>-0.263697</td>\n",
       "      <td>2.151824</td>\n",
       "      <td>112.645805</td>\n",
       "    </tr>\n",
       "    <tr>\n",
       "      <th>74281</th>\n",
       "      <td>tApbF</td>\n",
       "      <td>0.487545</td>\n",
       "      <td>-5.375987</td>\n",
       "      <td>6.091818</td>\n",
       "      <td>109.730649</td>\n",
       "    </tr>\n",
       "  </tbody>\n",
       "</table>\n",
       "</div>"
      ],
      "text/plain": [
       "          id        f0        f1        f2     product\n",
       "72255  3L95c  0.709355 -2.103284  9.255990  165.748832\n",
       "37613  qel4N  2.635663  0.276385  6.874464   81.332350\n",
       "68934  TdNXL  0.651572 -3.847421  2.768356  157.412843\n",
       "91066  s1w5X  1.798775  2.196174  8.818360  150.275359\n",
       "63181  scY1z -1.118097 -0.040658  7.561993   99.579702\n",
       "13956  H4mqQ  3.864435  1.974888  7.964040  159.197706\n",
       "20082  PizAy  0.355675  2.004378  0.518160    3.121821\n",
       "39476  9ZjG3  1.244497 -2.578916 -2.725206  103.287771\n",
       "37     FmeFh  1.549409 -0.263697  2.151824  112.645805\n",
       "74281  tApbF  0.487545 -5.375987  6.091818  109.730649"
      ]
     },
     "metadata": {},
     "output_type": "display_data"
    }
   ],
   "source": [
    "e_d_a(df_geo_data_2)"
   ]
  },
  {
   "cell_type": "markdown",
   "metadata": {},
   "source": [
    "#### Resumen de la exploración de datos.\n",
    "\n",
    "La exploración inicial de datos revela que no existen errores en la estructura de los datos: los nombres de las columnas son comprensibles y están correctamente estandarizados, no hay datos faltantes, y los tipos de datos de cada columna son los adecuados.\n",
    "\n",
    "Un aspecto importante a considerar es la eliminación de la columna `id` antes de entrenar el modelo. A diferencia de otras características, esta columna no aporta valor predictivo y podría interferir con el rendimiento del modelo. Además, dado que este proyecto requiere el uso de regresión lineal, es necesario asegurar que todas las características sean de tipo numérico, ya que este modelo no acepta datos categóricos o de texto."
   ]
  },
  {
   "cell_type": "markdown",
   "metadata": {},
   "source": [
    "## Entrenamiento y prueba del modelo.\n",
    "\n",
    "Con los datos ya verificados y sin necesidad de correcciones, procedemos al entrenamiento y evaluación del modelo. El objetivo final será calcular, para cada conjunto de datos (`df_geo_data_0`, `df_geo_data_1` y `df_geo_data_2`), los siguientes resultados:\n",
    "\n",
    "- El **RMSE** (Root Mean Square Error) del modelo, para evaluar su precisión.\n",
    "- El **valor promedio de las reservas** predicho por el modelo.\n",
    "- Los **valores predichos** por el modelo junto con los **valores reales**, los cuales serán útiles para aplicar posteriormente la técnica de *bootstrapping*, que permitirá estimar tanto las ganancias potenciales como los posibles riesgos.\n"
   ]
  },
  {
   "cell_type": "code",
   "execution_count": 7,
   "metadata": {},
   "outputs": [],
   "source": [
    "def train_test_model( df:pd.DataFrame ):\n",
    "    # Separamos features y target\n",
    "    target = df['product']\n",
    "    features = df.drop(['id','product'], axis = 1)\n",
    "    \n",
    "    \n",
    "    # Realizamos el escalado de características.\n",
    "    scaler = StandardScaler()\n",
    "    scaler.fit( features)\n",
    "    features = scaler.transform(features)\n",
    "    \n",
    "    # Dividimos en conjuntos de entrenamiento y validación.\n",
    "    features_train, features_valid, target_train, target_valid = train_test_split(\n",
    "        features, target, test_size=0.25, random_state=12345)\n",
    "    #Comprobamos el tamaño de los conjuntos.\n",
    "    print('Tamaño de los conjuntos obtenidos.')\n",
    "    print(f'Conjunto de validación: features: {features_valid.shape}||target: {target_valid.shape}')\n",
    "    print(f'Conjunto de entrenamiento: features: {features_train.shape}||target: {target_train.shape}')\n",
    "    \n",
    "    #Entrenamiento del modelo.\n",
    "    model = LinearRegression()\n",
    "    model.fit( features_train, target_train)\n",
    "    \n",
    "    # Predicciones del modelo.\n",
    "    predictions = model.predict( features_valid )\n",
    "    \n",
    "    # Evaluación del modelo.\n",
    "    rmse = mean_squared_error( target_valid, predictions, squared=False )\n",
    "    \n",
    "    \n",
    "    print(f'\\nEl valor promedio de las reservas según el modelo es de: {predictions.mean()}')\n",
    "    print(f'El valor promedio de las reservas en realidad es de: {target.mean()}')\n",
    "    print(f'El rmse obtenido por el modelo es: {rmse}')\n",
    "    \n",
    "    # Retornamos los valores predichos por el modelo así como los valores correctos.\n",
    "    return [pd.Series(predictions), target]"
   ]
  },
  {
   "cell_type": "markdown",
   "metadata": {},
   "source": [
    "Dado que el proceso para alcanzar el objetivo es idéntico para cada DataFrame, se ha optado por crear la función `train_test_model()`. Esta función se encargará de entrenar el modelo, realizar predicciones y evaluar el RMSE para cada DataFrame. Al centralizar estas operaciones en una única función, se evita la duplicación de código y se mantiene una estructura más limpia y eficiente."
   ]
  },
  {
   "cell_type": "code",
   "execution_count": 8,
   "metadata": {},
   "outputs": [
    {
     "name": "stdout",
     "output_type": "stream",
     "text": [
      "Tamaño de los conjuntos obtenidos.\n",
      "Conjunto de validación: features: (25000, 3)||target: (25000,)\n",
      "Conjunto de entrenamiento: features: (75000, 3)||target: (75000,)\n",
      "\n",
      "El valor promedio de las reservas según el modelo es de: 92.59256778438035\n",
      "El valor promedio de las reservas en realidad es de: 92.50000000000001\n",
      "El rmse obtenido por el modelo es: 37.5794217150813\n"
     ]
    }
   ],
   "source": [
    "model_0_predictions, model_0_true = train_test_model(df_geo_data_0)"
   ]
  },
  {
   "cell_type": "markdown",
   "metadata": {},
   "source": [
    "Después de utilizar la función `train_test_model()` con el DataFrame `df_geo_data_0`, se observa que los valores promedio de reservas de petróleo son muy similares tanto para los datos predichos por el modelo como para los datos reales. Sin embargo, el RMSE es de aproximadamente 37.5, lo cual sugiere que existe una variación significativa en las predicciones del modelo."
   ]
  },
  {
   "cell_type": "code",
   "execution_count": 9,
   "metadata": {},
   "outputs": [
    {
     "name": "stdout",
     "output_type": "stream",
     "text": [
      "Tamaño de los conjuntos obtenidos.\n",
      "Conjunto de validación: features: (25000, 3)||target: (25000,)\n",
      "Conjunto de entrenamiento: features: (75000, 3)||target: (75000,)\n",
      "\n",
      "El valor promedio de las reservas según el modelo es de: 68.72854689544602\n",
      "El valor promedio de las reservas en realidad es de: 68.82500000000002\n",
      "El rmse obtenido por el modelo es: 0.8930992867756171\n"
     ]
    }
   ],
   "source": [
    "model_1_predictions, model_1_true = train_test_model(df_geo_data_1)"
   ]
  },
  {
   "cell_type": "code",
   "execution_count": null,
   "metadata": {},
   "outputs": [],
   "source": [
    "En el DataFrame `df_geo_data_1`, se observa que el valor promedio de las reservas de petróleo es muy similar entre los valores predichos por el modelo y los valores reales. Sin embargo, el promedio de reservas es bajo, ya que, para que un pozo de petróleo sea rentable, debería tener reservas de al menos 111.1 unidades. Esto sugiere que en esta región los riesgos de pérdida podrían ser mayores.\n",
    "\n",
    "Otro aspecto relevante es el RMSE del modelo en este DataFrame, el cual es muy bajo. Esto indica que el modelo está prediciendo los valores con alta precisión para esta región."
   ]
  },
  {
   "cell_type": "markdown",
   "metadata": {},
   "source": [
    "model_2_predictions, model_2_true = train_test_model(df_geo_data_2)"
   ]
  },
  {
   "cell_type": "markdown",
   "metadata": {},
   "source": [
    "Los resultados para el DataFrame `df_geo_data_2` son muy similares a los obtenidos en `df_geo_data_0`. Las medias de las reservas de petróleo son prácticamente iguales entre los valores predichos por el modelo y los valores reales. Además, el RMSE obtenido no es particularmente bajo, lo cual sugiere una variación moderada en las predicciones del modelo para esta región."
   ]
  },
  {
   "cell_type": "markdown",
   "metadata": {},
   "source": [
    "### Conclusión de la sección.\n",
    "\n",
    "Los conjuntos de datos `df_geo_data_2` y `df_geo_data_0` presentan las reservas promedio más altas en comparación con otros, aunque estas siguen estando por debajo del umbral de rentabilidad requerido, que es de 111.1 unidades. En las secciones posteriores, se analizarán más a fondo la rentabilidad y los riesgos asociados a estas reservas."
   ]
  },
  {
   "cell_type": "markdown",
   "metadata": {},
   "source": [
    "## Calculando ganancias y riesgos.\n",
    "\n",
    "En esta sección se evaluarán tanto las ganancias como los riesgos asociados, considerando los siguientes puntos clave:\n",
    "\n",
    "1. **Selección de pozos**: OilyGiant planea estudiar 500 pozos de petróleo, de los cuales se seleccionarán los 200 con mayor calidad de crudo.\n",
    "2. **Costo de inversión**: La empresa invertirá 100 millones de dólares en la construcción de 200 pozos, lo que representa un costo promedio de 500,000 dólares por pozo.\n",
    "3. **Umbral de rentabilidad**: Un pozo será considerado rentable si contiene al menos 111.1 unidades de petróleo.\n",
    "4. **Ingreso por unidad**: Cada barril de petróleo genera 4.5 dólares, y cada unidad de petróleo contiene 1,000 barriles, generando así un ingreso de 4,500 dólares por unidad de petróleo.\n",
    "\n",
    "El cálculo de ganancias y evaluación de riesgos seguirá estos pasos:\n",
    "\n",
    "1. Seleccionar los 500 pozos con mayores reservas de petróleo, según los valores predichos por el modelo.\n",
    "2. Aplicar la técnica de *bootstrapping*, tomando 1,000 muestras de 200 pozos cada una y calculando el ingreso generado por cada muestra.\n",
    "3. Para cada muestra de 200 pozos, calcular el ingreso total sumando las reservas de petróleo y aplicando la fórmula:  \n",
    "(costo de barril x total de unidades de petroleo x 1000) / 1000000. = beneficio en millones de dolares.\n",
    "\n",
    "4. Calcular el ingreso promedio de todas las muestras tomadas.\n",
    "5. A partir de la distribución de ingresos obtenida, calcular el intervalo de confianza y evaluar el riesgo de pérdidas.\n",
    "\n",
    "Este procedimiento se aplicará a cada región para obtener una evaluación integral de ganancias y riesgos.\n"
   ]
  },
  {
   "cell_type": "code",
   "execution_count": 11,
   "metadata": {},
   "outputs": [],
   "source": [
    "def gross_income( data:pd.Series, cost_barrel:float = 3.0 ):\n",
    "    # Calculamos el total de las reservas de petroleo en los 200 pozos \n",
    "    total_product = data.sum()\n",
    "    # Calculamos el ingreso total\n",
    "    income = (total_product * cost_barrel * 1000) / 1000000\n",
    "    \n",
    "    return income"
   ]
  },
  {
   "cell_type": "markdown",
   "metadata": {},
   "source": [
    "Dado que el proceso para calcular las ganancias y los riesgos es el mismo en cada región, se implementarán diferentes funciones. Esto permitirá evitar la repetición de código y mantener una estructura más legible y organizada.\n",
    "\n",
    "\n",
    "La primera función es `gross_income()`. Esta función es sencilla y tiene como único propósito calcular el ingreso bruto obtenido a partir de una muestra de pozos."
   ]
  },
  {
   "cell_type": "code",
   "execution_count": 12,
   "metadata": {},
   "outputs": [],
   "source": [
    "def plot_hist( data ): \n",
    "    fig, axs = plt.subplots( figsize = [10,5])\n",
    "#     axs.axvline(100)\n",
    "    axs.hist( data )\n",
    "    # configuramos el histograma.\n",
    "    plt.title(\"Ingresos potenciales.\")\n",
    "    plt.xlabel(\"Ingreso en millones de dolares.\")\n",
    "    plt.ylabel(\"Frecuencia\")\n",
    "    plt.show()\n"
   ]
  },
  {
   "cell_type": "markdown",
   "metadata": {},
   "source": [
    "La función `plot_hist()` tiene como único propósito generar un histograma con los datos obtenidos a partir del *bootstrapping*. Esto permitirá visualizar la distribución de los ingresos y obtener una idea más clara sobre su comportamiento."
   ]
  },
  {
   "cell_type": "code",
   "execution_count": 13,
   "metadata": {},
   "outputs": [],
   "source": [
    "def sort_cut( data:pd.Series, size:int):\n",
    "    # Ordenamos los datos de mayor a menor\n",
    "    data_sort = data.sort_values( ascending=False )\n",
    "    # Seleccionamos los x valores indicados en size.\n",
    "    data_sort = data_sort.iloc[0:size]\n",
    "    \n",
    "    return data_sort"
   ]
  },
  {
   "cell_type": "markdown",
   "metadata": {},
   "source": [
    "La función `sort_cut()` se encargará de seleccionar los *x* valores más altos de una muestra de datos. Esta función será especialmente útil al aplicar el *bootstrapping*, ya que permitirá preparar los datos de cada región de manera eficiente."
   ]
  },
  {
   "cell_type": "code",
   "execution_count": 14,
   "metadata": {},
   "outputs": [],
   "source": [
    "def bootstrapping( data:pd.Series, cost_barrel:float = 3.0, repeat:int=100, graph:bool=True ):\n",
    "    # llamamos a sort_cut() para seleccionar los 500 pozos más grandes.\n",
    "    data = sort_cut( data, 500 )\n",
    "    # Creamos un objeto RandomState para poder replicar los resultados del muestreo\n",
    "    state = np.random.RandomState(12345)\n",
    "    # En la lista values se almacenarán las ganancias de cada submuestra de pozos de petroleo.\n",
    "    values = []\n",
    "    # Aplicamos el bootstrapping\n",
    "    for i in range(repeat):\n",
    "        subsample = data.sample( n=200, replace=True, random_state=state )\n",
    "        values.append( gross_income( subsample, cost_barrel) )\n",
    "    # Graficamos los resultados obtenidos del bootstrapping si el usuario así lo desea.\n",
    "    if graph:\n",
    "        plot_hist( values )\n",
    "    # Convertimos los valores a un Series de pandas para facilitar los calculos.\n",
    "    values = pd.Series( values )\n",
    "    # Calculamos los ingresos promedio\n",
    "    avg = values.mean()\n",
    "    # Calculamos el intervalo de confianza.\n",
    "    confidence_interval = values.quantile( .05 )\n",
    "    # Calculamos el riesgo de perdida.\n",
    "    risk_loss = (( values[values<100].count() ) * 100) / 200\n",
    "    \n",
    "    # Imprimimos los resultados en pantalla.\n",
    "    print(f'\\nEl beneficio promedio es de: {round(avg, 3)} millones de dolares')\n",
    "    print(f'\\nSe tiene certeza del 95% de que los ingresos serán de almenos:{round(confidence_interval, 3)} millones de dolares')\n",
    "    print(f'\\nEl riesgo de perdida es de: {risk_loss}%')"
   ]
  },
  {
   "cell_type": "markdown",
   "metadata": {},
   "source": [
    "La función `bootstrapping()` es la más importante del proceso. Su propósito es preparar los datos y ejecutar el *bootstrapping* para, posteriormente, calcular el beneficio promedio, el intervalo de confianza y el riesgo de pérdida. \n",
    "\n",
    "Dentro de esta función principal se llaman las funciones descritas anteriormente, como `gross_income()` y `plot_hist()`, integrando así todos los elementos necesarios para la evaluación completa de las ganancias y los riesgos."
   ]
  },
  {
   "cell_type": "markdown",
   "metadata": {},
   "source": [
    "### La máxima ganancia posible.\n",
    "\n",
    "Antes de ejecutar la función `bootstrapping()` para cada región y obtener los datos solicitados, se calculará la ganancia máxima posible. Esto proporcionará una referencia sobre los beneficios máximos que podrían alcanzarse en cada región.\n",
    "\n",
    "Para realizar este cálculo, se seleccionarán los 200 pozos con mayores reservas de cada región y se estimará el ingreso potencial."
   ]
  },
  {
   "cell_type": "code",
   "execution_count": 15,
   "metadata": {},
   "outputs": [
    {
     "name": "stdout",
     "output_type": "stream",
     "text": [
      "El ingreso más grande que se podría obtener es de: 139.9604887746513 millones de dolares\n"
     ]
    }
   ],
   "source": [
    "# Calculamos el ingreso de los 200 pozos más grandes de la región.\n",
    "region_0_max_income = gross_income( sort_cut( model_0_predictions, 200), 4.5 )\n",
    "\n",
    "print( f'El ingreso más grande que se podría obtener es de: {region_0_max_income} millones de dolares')"
   ]
  },
  {
   "cell_type": "code",
   "execution_count": 16,
   "metadata": {},
   "outputs": [
    {
     "name": "stdout",
     "output_type": "stream",
     "text": [
      "El ingreso más grande que se podría obtener es de: 124.85712051973539 millones de dolares\n"
     ]
    }
   ],
   "source": [
    "# Calculamos el ingreso de los 200 pozos más grandes de la región.\n",
    "region_1_max_income = gross_income( sort_cut( model_1_predictions, 200), 4.5 )\n",
    "\n",
    "print( f'El ingreso más grande que se podría obtener es de: {region_1_max_income} millones de dolares')"
   ]
  },
  {
   "cell_type": "code",
   "execution_count": 17,
   "metadata": {},
   "outputs": [
    {
     "name": "stdout",
     "output_type": "stream",
     "text": [
      "El ingreso más grande que se podría obtener es de: 133.21754396243253 millones de dolares\n"
     ]
    }
   ],
   "source": [
    "# Calculamos el ingreso de los 200 pozos más grandes de la región.\n",
    "region_2_max_income = gross_income( sort_cut( model_2_predictions, 200), 4.5 )\n",
    "\n",
    "print( f'El ingreso más grande que se podría obtener es de: {region_2_max_income} millones de dolares')"
   ]
  },
  {
   "cell_type": "markdown",
   "metadata": {},
   "source": [
    "### Región aparentemente  más rentable\n",
    "\n",
    "Ahora que se ha obtenido la ganancia máxima posible en cada región, se puede concluir preliminarmente que la construcción de los 200 pozos debería realizarse en la **Región 0**, ya que esta región genera los mayores ingresos brutos. \n",
    "\n",
    "Esta es la conclusión basada en la información disponible hasta este punto. Sin embargo, el siguiente paso es realizar el *bootstrapping* para confirmar o descartar que la **Región 0** es la mejor opción para la construcción de los pozos, evaluando más a fondo los beneficios y riesgos asociados."
   ]
  },
  {
   "cell_type": "code",
   "execution_count": 22,
   "metadata": {},
   "outputs": [],
   "source": [
    "# Esta variable representa las repeticiones del bootstrapping.\n",
    "repeat = 1000\n",
    "# Esta variable representa el costo de un barril de petroleo.\n",
    "cost_barrel = 4.5"
   ]
  },
  {
   "cell_type": "code",
   "execution_count": 18,
   "metadata": {},
   "outputs": [
    {
     "data": {
      "image/png": "[encoded data removed]",
      "text/plain": [
       "<Figure size 1000x500 with 1 Axes>"
      ]
     },
     "metadata": {},
     "output_type": "display_data"
    },
    {
     "name": "stdout",
     "output_type": "stream",
     "text": [
      "\n",
      "El beneficio promedio es de: 133.54 millones de dolares\n",
      "\n",
      "Se tiene certeza del 95% de que los ingresos serán de almenos:132.787 millones de dolares\n",
      "\n",
      "El riesgo de perdida es de: 0.0%\n"
     ]
    }
   ],
   "source": [
    "# Se calculan los valores solicitados para la región 0\n",
    "bootstrapping( model_0_predictions, cost_barrel, repeat)"
   ]
  },
  {
   "cell_type": "code",
   "execution_count": 19,
   "metadata": {},
   "outputs": [
    {
     "data": {
      "image/png": "[encoded data removed]",
      "text/plain": [
       "<Figure size 1000x500 with 1 Axes>"
      ]
     },
     "metadata": {},
     "output_type": "display_data"
    },
    {
     "name": "stdout",
     "output_type": "stream",
     "text": [
      "\n",
      "El beneficio promedio es de: 124.554 millones de dolares\n",
      "\n",
      "Se tiene certeza del 95% de que los ingresos serán de almenos:124.518 millones de dolares\n",
      "\n",
      "El riesgo de perdida es de: 0.0%\n"
     ]
    }
   ],
   "source": [
    "# Se calculan los valores solicitados para la región 1\n",
    "bootstrapping( model_1_predictions, cost_barrel, repeat)\n"
   ]
  },
  {
   "cell_type": "code",
   "execution_count": null,
   "metadata": {},
   "outputs": [],
   "source": [
    "# Se calculan los valores solicitados para la región 2\n",
    "bootstrapping( model_2_predictions, cost_barrel, repeat)"
   ]
  },
  {
   "cell_type": "markdown",
   "metadata": {},
   "source": [
    "## Conclusión.\n",
    "\n",
    "Tras haber obtenido el promedio de ganancias brutas, el intervalo de confianza del 95% y el riesgo de pérdida, se observa que todas las regiones tienen un **riesgo de pérdidas del 0%**. Esto implica que cualquiera de las tres regiones podría ser considerada para la construcción de los pozos de petróleo. \n",
    "\n",
    "Sin embargo, un análisis más detallado indica que la **Región 0** genera las mayores ganancias brutas en comparación con las demás. Adicionalmente, el intervalo de confianza del 95% sugiere que existe una probabilidad del 95% de que los ingresos brutos en esta región alcancen al menos **132 millones de dólares**, superando significativamente a las otras regiones. Con base en estos datos, la Región 0 emerge como la candidata más adecuada para la construcción de los pozos.\n",
    "\n",
    "Un aspecto relevante a tomar en cuenta es la distribución de los ingresos en cada región. La probabilidad de alcanzar la ganancia máxima o, al menos, una cercana a ella es bastante baja en todas las regiones, lo que indica que no sería prudente basar la decisión únicamente en el potencial de ganancias máximas. \n",
    "\n",
    "Aunque en este caso la Región 0 no solo cuenta con la ganancia máxima posible sino también con el mayor ingreso promedio, en otros escenarios, esto podría no ser así. Podría ocurrir que una región tenga pozos con las mayores reservas de petróleo, pero también contenga pozos con las reservas más bajas en comparación con otras regiones. En tales situaciones, centrarse únicamente en la ganancia máxima podría resultar engañoso.\n",
    "\n",
    "Por lo tanto, es preferible elegir la región que ofrezca el ingreso promedio más alto y consistente. De esta manera, se optimiza la probabilidad de lograr una rentabilidad sostenida en el proyecto, reduciendo la exposición a resultados extremos que, aunque atractivos, tienen una menor probabilidad de ocurrencia."
   ]
  }
 ],
 "metadata": {
  "ExecuteTimeLog": [
   {
    "duration": 332,
    "start_time": "2024-11-09T19:46:08.978Z"
   },
   {
    "duration": 3,
    "start_time": "2024-11-09T19:46:44.092Z"
   },
   {
    "duration": 136,
    "start_time": "2024-11-09T19:47:59.463Z"
   },
   {
    "duration": 86,
    "start_time": "2024-11-09T19:48:03.356Z"
   },
   {
    "duration": 104,
    "start_time": "2024-11-09T19:49:04.771Z"
   },
   {
    "duration": 113,
    "start_time": "2024-11-09T19:49:09.503Z"
   },
   {
    "duration": 78,
    "start_time": "2024-11-09T19:49:18.589Z"
   },
   {
    "duration": 80,
    "start_time": "2024-11-09T20:21:44.951Z"
   },
   {
    "duration": 232,
    "start_time": "2024-11-09T20:23:32.011Z"
   },
   {
    "duration": 220,
    "start_time": "2024-11-09T20:24:21.965Z"
   },
   {
    "duration": 218,
    "start_time": "2024-11-09T20:24:25.653Z"
   },
   {
    "duration": 2,
    "start_time": "2024-11-09T21:40:21.161Z"
   },
   {
    "duration": 211,
    "start_time": "2024-11-09T22:05:38.119Z"
   },
   {
    "duration": 9,
    "start_time": "2024-11-09T22:09:40.993Z"
   },
   {
    "duration": 212,
    "start_time": "2024-11-09T22:09:45.235Z"
   },
   {
    "duration": 11,
    "start_time": "2024-11-09T22:10:04.898Z"
   },
   {
    "duration": 25,
    "start_time": "2024-11-09T22:13:59.801Z"
   },
   {
    "duration": 10,
    "start_time": "2024-11-09T22:18:04.822Z"
   },
   {
    "duration": 12,
    "start_time": "2024-11-09T22:18:35.959Z"
   },
   {
    "duration": 25,
    "start_time": "2024-11-09T22:19:06.193Z"
   },
   {
    "duration": 28,
    "start_time": "2024-11-09T22:19:17.051Z"
   },
   {
    "duration": 15,
    "start_time": "2024-11-09T22:19:18.580Z"
   },
   {
    "duration": 12,
    "start_time": "2024-11-09T22:19:21.873Z"
   },
   {
    "duration": 9,
    "start_time": "2024-11-09T22:19:25.410Z"
   },
   {
    "duration": 11,
    "start_time": "2024-11-09T22:21:13.030Z"
   },
   {
    "duration": 12,
    "start_time": "2024-11-09T22:21:15.236Z"
   },
   {
    "duration": 32,
    "start_time": "2024-11-09T22:21:17.404Z"
   },
   {
    "duration": 32,
    "start_time": "2024-11-09T22:32:07.311Z"
   },
   {
    "duration": 37,
    "start_time": "2024-11-09T22:32:11.184Z"
   },
   {
    "duration": 33,
    "start_time": "2024-11-09T22:32:14.955Z"
   },
   {
    "duration": 156,
    "start_time": "2024-11-10T19:16:19.466Z"
   },
   {
    "duration": 299,
    "start_time": "2024-11-10T19:16:29.785Z"
   },
   {
    "duration": 319,
    "start_time": "2024-11-10T19:16:30.087Z"
   },
   {
    "duration": 16,
    "start_time": "2024-11-10T19:16:30.408Z"
   },
   {
    "duration": 12,
    "start_time": "2024-11-10T19:16:30.426Z"
   },
   {
    "duration": 35,
    "start_time": "2024-11-10T19:16:30.441Z"
   },
   {
    "duration": 9,
    "start_time": "2024-11-10T19:16:30.478Z"
   },
   {
    "duration": 39,
    "start_time": "2024-11-10T19:16:30.489Z"
   },
   {
    "duration": 26,
    "start_time": "2024-11-10T19:16:30.530Z"
   },
   {
    "duration": 10,
    "start_time": "2024-11-10T19:16:30.559Z"
   },
   {
    "duration": 12,
    "start_time": "2024-11-10T19:16:30.571Z"
   },
   {
    "duration": 44,
    "start_time": "2024-11-10T19:16:30.585Z"
   },
   {
    "duration": 17,
    "start_time": "2024-11-10T19:16:30.630Z"
   },
   {
    "duration": 34,
    "start_time": "2024-11-10T19:16:55.434Z"
   },
   {
    "duration": 18,
    "start_time": "2024-11-10T19:17:37.266Z"
   },
   {
    "duration": 35,
    "start_time": "2024-11-10T19:17:51.791Z"
   },
   {
    "duration": 35,
    "start_time": "2024-11-10T19:19:12.301Z"
   },
   {
    "duration": 35,
    "start_time": "2024-11-10T19:19:23.701Z"
   },
   {
    "duration": 36,
    "start_time": "2024-11-10T19:21:29.788Z"
   },
   {
    "duration": 40,
    "start_time": "2024-11-10T19:24:27.995Z"
   },
   {
    "duration": 35,
    "start_time": "2024-11-10T19:24:46.100Z"
   },
   {
    "duration": 35,
    "start_time": "2024-11-10T19:25:21.573Z"
   },
   {
    "duration": 2,
    "start_time": "2024-11-10T19:26:43.848Z"
   },
   {
    "duration": 3,
    "start_time": "2024-11-10T19:27:50.105Z"
   },
   {
    "duration": 175,
    "start_time": "2024-11-10T19:28:15.486Z"
   },
   {
    "duration": 33,
    "start_time": "2024-11-10T19:28:22.910Z"
   },
   {
    "duration": 3,
    "start_time": "2024-11-10T19:28:47.905Z"
   },
   {
    "duration": 31,
    "start_time": "2024-11-10T19:28:50.681Z"
   },
   {
    "duration": 3,
    "start_time": "2024-11-10T19:33:40.833Z"
   },
   {
    "duration": 4,
    "start_time": "2024-11-10T19:33:58.795Z"
   },
   {
    "duration": 37,
    "start_time": "2024-11-10T19:34:00.671Z"
   },
   {
    "duration": 3,
    "start_time": "2024-11-10T19:34:30.123Z"
   },
   {
    "duration": 43,
    "start_time": "2024-11-10T19:34:32.391Z"
   },
   {
    "duration": 3,
    "start_time": "2024-11-10T19:35:17.889Z"
   },
   {
    "duration": 41,
    "start_time": "2024-11-10T19:35:20.090Z"
   },
   {
    "duration": 3,
    "start_time": "2024-11-10T19:35:35.575Z"
   },
   {
    "duration": 41,
    "start_time": "2024-11-10T19:35:37.990Z"
   },
   {
    "duration": 3,
    "start_time": "2024-11-10T19:36:17.932Z"
   },
   {
    "duration": 3,
    "start_time": "2024-11-10T19:36:42.430Z"
   },
   {
    "duration": 3,
    "start_time": "2024-11-10T19:37:01.011Z"
   },
   {
    "duration": 41,
    "start_time": "2024-11-10T19:37:05.226Z"
   },
   {
    "duration": 3,
    "start_time": "2024-11-10T19:37:15.524Z"
   },
   {
    "duration": 39,
    "start_time": "2024-11-10T19:37:18.927Z"
   },
   {
    "duration": 41,
    "start_time": "2024-11-10T19:40:36.561Z"
   },
   {
    "duration": 40,
    "start_time": "2024-11-10T19:40:49.209Z"
   },
   {
    "duration": 24,
    "start_time": "2024-11-10T19:41:28.700Z"
   },
   {
    "duration": 3,
    "start_time": "2024-11-10T19:41:35.673Z"
   },
   {
    "duration": 3,
    "start_time": "2024-11-10T19:41:40.163Z"
   },
   {
    "duration": 43,
    "start_time": "2024-11-10T19:41:42.667Z"
   },
   {
    "duration": 2,
    "start_time": "2024-11-10T20:40:44.602Z"
   },
   {
    "duration": 296,
    "start_time": "2024-11-10T21:22:27.460Z"
   },
   {
    "duration": 229,
    "start_time": "2024-11-10T21:22:27.758Z"
   },
   {
    "duration": 3,
    "start_time": "2024-11-10T21:22:27.989Z"
   },
   {
    "duration": 55,
    "start_time": "2024-11-10T21:22:27.995Z"
   },
   {
    "duration": 44,
    "start_time": "2024-11-10T21:22:28.052Z"
   },
   {
    "duration": 70,
    "start_time": "2024-11-10T21:22:28.099Z"
   },
   {
    "duration": 2,
    "start_time": "2024-11-10T21:22:28.171Z"
   },
   {
    "duration": 653,
    "start_time": "2024-11-10T22:00:49.485Z"
   },
   {
    "duration": 13,
    "start_time": "2024-11-10T22:01:09.046Z"
   },
   {
    "duration": 3,
    "start_time": "2024-11-10T22:04:10.812Z"
   },
   {
    "duration": 2,
    "start_time": "2024-11-10T22:04:18.030Z"
   },
   {
    "duration": 3,
    "start_time": "2024-11-10T22:04:45.850Z"
   },
   {
    "duration": 3,
    "start_time": "2024-11-10T22:04:49.731Z"
   },
   {
    "duration": 3,
    "start_time": "2024-11-10T22:09:28.773Z"
   },
   {
    "duration": 4,
    "start_time": "2024-11-10T22:10:40.840Z"
   },
   {
    "duration": 3,
    "start_time": "2024-11-10T22:10:53.348Z"
   },
   {
    "duration": 777,
    "start_time": "2024-11-10T23:50:27.827Z"
   },
   {
    "duration": 283,
    "start_time": "2024-11-10T23:50:28.607Z"
   },
   {
    "duration": 3,
    "start_time": "2024-11-10T23:50:28.892Z"
   },
   {
    "duration": 47,
    "start_time": "2024-11-10T23:50:28.897Z"
   },
   {
    "duration": 39,
    "start_time": "2024-11-10T23:50:28.945Z"
   },
   {
    "duration": 39,
    "start_time": "2024-11-10T23:50:29.006Z"
   },
   {
    "duration": 2,
    "start_time": "2024-11-10T23:50:29.047Z"
   },
   {
    "duration": 3,
    "start_time": "2024-11-10T23:54:26.714Z"
   },
   {
    "duration": 230,
    "start_time": "2024-11-10T23:54:55.186Z"
   },
   {
    "duration": 3,
    "start_time": "2024-11-10T23:56:42.178Z"
   },
   {
    "duration": 18,
    "start_time": "2024-11-10T23:56:44.317Z"
   },
   {
    "duration": 4,
    "start_time": "2024-11-10T23:57:31.024Z"
   },
   {
    "duration": 23,
    "start_time": "2024-11-10T23:57:32.705Z"
   },
   {
    "duration": 20,
    "start_time": "2024-11-11T00:01:16.631Z"
   },
   {
    "duration": 765,
    "start_time": "2024-11-11T00:37:25.378Z"
   },
   {
    "duration": 301,
    "start_time": "2024-11-11T00:37:26.146Z"
   },
   {
    "duration": 3,
    "start_time": "2024-11-11T00:37:26.448Z"
   },
   {
    "duration": 47,
    "start_time": "2024-11-11T00:37:26.453Z"
   },
   {
    "duration": 51,
    "start_time": "2024-11-11T00:37:26.503Z"
   },
   {
    "duration": 39,
    "start_time": "2024-11-11T00:37:26.556Z"
   },
   {
    "duration": 29,
    "start_time": "2024-11-11T00:37:26.598Z"
   },
   {
    "duration": 171,
    "start_time": "2024-11-11T00:37:26.628Z"
   },
   {
    "duration": 52,
    "start_time": "2024-11-11T00:37:54.309Z"
   },
   {
    "duration": 789,
    "start_time": "2024-11-11T00:43:41.136Z"
   },
   {
    "duration": 12,
    "start_time": "2024-11-11T00:43:47.379Z"
   },
   {
    "duration": 4,
    "start_time": "2024-11-11T00:45:11.574Z"
   },
   {
    "duration": 18,
    "start_time": "2024-11-11T00:45:14.746Z"
   },
   {
    "duration": 4,
    "start_time": "2024-11-11T00:45:55.828Z"
   },
   {
    "duration": 29,
    "start_time": "2024-11-11T00:45:57.934Z"
   },
   {
    "duration": 3,
    "start_time": "2024-11-11T00:49:15.694Z"
   },
   {
    "duration": 25,
    "start_time": "2024-11-11T00:49:19.059Z"
   },
   {
    "duration": 4,
    "start_time": "2024-11-11T00:49:56.444Z"
   },
   {
    "duration": 21,
    "start_time": "2024-11-11T00:50:02.930Z"
   },
   {
    "duration": 4,
    "start_time": "2024-11-11T00:51:03.627Z"
   },
   {
    "duration": 47,
    "start_time": "2024-11-11T00:51:07.464Z"
   },
   {
    "duration": 750,
    "start_time": "2024-11-11T00:51:29.374Z"
   },
   {
    "duration": 215,
    "start_time": "2024-11-11T00:51:30.126Z"
   },
   {
    "duration": 3,
    "start_time": "2024-11-11T00:51:30.343Z"
   },
   {
    "duration": 48,
    "start_time": "2024-11-11T00:51:30.348Z"
   },
   {
    "duration": 60,
    "start_time": "2024-11-11T00:51:30.397Z"
   },
   {
    "duration": 40,
    "start_time": "2024-11-11T00:51:30.459Z"
   },
   {
    "duration": 4,
    "start_time": "2024-11-11T00:51:30.523Z"
   },
   {
    "duration": 18,
    "start_time": "2024-11-11T00:51:30.529Z"
   },
   {
    "duration": 20,
    "start_time": "2024-11-11T00:54:51.500Z"
   },
   {
    "duration": 21,
    "start_time": "2024-11-11T00:54:54.911Z"
   },
   {
    "duration": 4,
    "start_time": "2024-11-11T00:59:07.079Z"
   },
   {
    "duration": 20,
    "start_time": "2024-11-11T00:59:09.050Z"
   },
   {
    "duration": 4,
    "start_time": "2024-11-11T01:03:08.218Z"
   },
   {
    "duration": 4,
    "start_time": "2024-11-11T01:04:31.035Z"
   },
   {
    "duration": 5,
    "start_time": "2024-11-11T01:04:47.793Z"
   },
   {
    "duration": 21,
    "start_time": "2024-11-11T01:04:49.739Z"
   },
   {
    "duration": 4,
    "start_time": "2024-11-11T01:12:26.555Z"
   },
   {
    "duration": 22,
    "start_time": "2024-11-11T01:12:29.011Z"
   },
   {
    "duration": 5,
    "start_time": "2024-11-11T01:13:57.350Z"
   },
   {
    "duration": 22,
    "start_time": "2024-11-11T01:13:59.456Z"
   },
   {
    "duration": 20,
    "start_time": "2024-11-11T01:22:27.354Z"
   },
   {
    "duration": 23,
    "start_time": "2024-11-11T01:22:34.446Z"
   },
   {
    "duration": 22,
    "start_time": "2024-11-11T01:22:46.295Z"
   },
   {
    "duration": 19,
    "start_time": "2024-11-11T01:23:18.087Z"
   },
   {
    "duration": 21,
    "start_time": "2024-11-11T01:23:31.504Z"
   },
   {
    "duration": 22,
    "start_time": "2024-11-11T01:23:41.718Z"
   },
   {
    "duration": 22,
    "start_time": "2024-11-11T01:25:57.799Z"
   },
   {
    "duration": 28,
    "start_time": "2024-11-11T01:26:18.653Z"
   },
   {
    "duration": 19,
    "start_time": "2024-11-11T01:26:38.091Z"
   },
   {
    "duration": 3,
    "start_time": "2024-11-11T02:28:30.706Z"
   },
   {
    "duration": 3,
    "start_time": "2024-11-11T02:55:52.121Z"
   },
   {
    "duration": 214,
    "start_time": "2024-11-11T02:56:13.227Z"
   },
   {
    "duration": 23,
    "start_time": "2024-11-11T02:56:25.467Z"
   },
   {
    "duration": 2,
    "start_time": "2024-11-11T02:56:38.483Z"
   },
   {
    "duration": 23,
    "start_time": "2024-11-11T02:56:40.013Z"
   },
   {
    "duration": 4,
    "start_time": "2024-11-11T02:56:48.125Z"
   },
   {
    "duration": 3,
    "start_time": "2024-11-11T02:56:55.757Z"
   },
   {
    "duration": 23,
    "start_time": "2024-11-11T02:56:57.969Z"
   },
   {
    "duration": 3,
    "start_time": "2024-11-11T02:57:09.193Z"
   },
   {
    "duration": 23,
    "start_time": "2024-11-11T02:57:11.663Z"
   },
   {
    "duration": 3,
    "start_time": "2024-11-11T03:08:03.700Z"
   },
   {
    "duration": 3,
    "start_time": "2024-11-11T03:08:14.916Z"
   },
   {
    "duration": 4,
    "start_time": "2024-11-11T03:08:31.635Z"
   },
   {
    "duration": 17,
    "start_time": "2024-11-11T03:08:33.552Z"
   },
   {
    "duration": 18,
    "start_time": "2024-11-11T03:09:18.602Z"
   },
   {
    "duration": 23,
    "start_time": "2024-11-11T03:09:24.965Z"
   },
   {
    "duration": 23,
    "start_time": "2024-11-11T03:09:36.889Z"
   },
   {
    "duration": 4,
    "start_time": "2024-11-11T03:10:29.457Z"
   },
   {
    "duration": 2,
    "start_time": "2024-11-11T03:10:41.644Z"
   },
   {
    "duration": 3,
    "start_time": "2024-11-11T03:11:26.533Z"
   },
   {
    "duration": 1896,
    "start_time": "2024-11-11T04:09:33.736Z"
   },
   {
    "duration": 3,
    "start_time": "2024-11-11T04:09:38.926Z"
   },
   {
    "duration": 3,
    "start_time": "2024-11-11T04:10:19.235Z"
   },
   {
    "duration": 3,
    "start_time": "2024-11-11T04:11:28.794Z"
   },
   {
    "duration": 23,
    "start_time": "2024-11-11T04:12:19.489Z"
   },
   {
    "duration": 3,
    "start_time": "2024-11-11T04:12:23.432Z"
   },
   {
    "duration": 667,
    "start_time": "2024-11-11T04:12:25.397Z"
   },
   {
    "duration": 73,
    "start_time": "2024-11-11T04:16:04.352Z"
   },
   {
    "duration": 671,
    "start_time": "2024-11-11T04:16:19.803Z"
   },
   {
    "duration": 3,
    "start_time": "2024-11-11T04:16:24.161Z"
   },
   {
    "duration": 830,
    "start_time": "2024-11-11T04:16:26.553Z"
   },
   {
    "duration": 827,
    "start_time": "2024-11-11T04:17:26.865Z"
   },
   {
    "duration": 777,
    "start_time": "2024-11-11T04:17:35.532Z"
   },
   {
    "duration": 4,
    "start_time": "2024-11-11T04:22:09.303Z"
   },
   {
    "duration": 2695,
    "start_time": "2024-11-11T19:01:57.855Z"
   },
   {
    "duration": 305,
    "start_time": "2024-11-11T19:02:00.552Z"
   },
   {
    "duration": 5,
    "start_time": "2024-11-11T19:02:00.859Z"
   },
   {
    "duration": 59,
    "start_time": "2024-11-11T19:02:00.866Z"
   },
   {
    "duration": 41,
    "start_time": "2024-11-11T19:02:00.926Z"
   },
   {
    "duration": 44,
    "start_time": "2024-11-11T19:02:00.986Z"
   },
   {
    "duration": 5,
    "start_time": "2024-11-11T19:02:01.032Z"
   },
   {
    "duration": 53,
    "start_time": "2024-11-11T19:02:01.039Z"
   },
   {
    "duration": 3,
    "start_time": "2024-11-11T19:02:01.094Z"
   },
   {
    "duration": 3,
    "start_time": "2024-11-11T19:02:01.100Z"
   },
   {
    "duration": 6,
    "start_time": "2024-11-11T19:02:01.104Z"
   },
   {
    "duration": 965,
    "start_time": "2024-11-11T19:02:01.112Z"
   },
   {
    "duration": 2,
    "start_time": "2024-11-11T19:21:04.136Z"
   },
   {
    "duration": 1049,
    "start_time": "2024-11-11T19:21:08.709Z"
   },
   {
    "duration": 257,
    "start_time": "2024-11-11T19:21:09.760Z"
   },
   {
    "duration": 5,
    "start_time": "2024-11-11T19:21:10.019Z"
   },
   {
    "duration": 61,
    "start_time": "2024-11-11T19:21:10.026Z"
   },
   {
    "duration": 42,
    "start_time": "2024-11-11T19:21:10.089Z"
   },
   {
    "duration": 64,
    "start_time": "2024-11-11T19:21:10.133Z"
   },
   {
    "duration": 4,
    "start_time": "2024-11-11T19:21:10.201Z"
   },
   {
    "duration": 20,
    "start_time": "2024-11-11T19:21:10.207Z"
   },
   {
    "duration": 4,
    "start_time": "2024-11-11T19:21:10.228Z"
   },
   {
    "duration": 3,
    "start_time": "2024-11-11T19:21:10.235Z"
   },
   {
    "duration": 50,
    "start_time": "2024-11-11T19:21:10.239Z"
   },
   {
    "duration": 925,
    "start_time": "2024-11-11T19:21:10.290Z"
   },
   {
    "duration": 5,
    "start_time": "2024-11-11T19:21:21.649Z"
   },
   {
    "duration": 1004,
    "start_time": "2024-11-11T19:21:28.114Z"
   },
   {
    "duration": 224,
    "start_time": "2024-11-11T19:21:29.120Z"
   },
   {
    "duration": 3,
    "start_time": "2024-11-11T19:21:29.347Z"
   },
   {
    "duration": 58,
    "start_time": "2024-11-11T19:21:29.352Z"
   },
   {
    "duration": 40,
    "start_time": "2024-11-11T19:21:29.413Z"
   },
   {
    "duration": 66,
    "start_time": "2024-11-11T19:21:29.455Z"
   },
   {
    "duration": 6,
    "start_time": "2024-11-11T19:21:29.522Z"
   },
   {
    "duration": 56,
    "start_time": "2024-11-11T19:21:29.530Z"
   },
   {
    "duration": 4,
    "start_time": "2024-11-11T19:21:29.588Z"
   },
   {
    "duration": 3,
    "start_time": "2024-11-11T19:21:29.593Z"
   },
   {
    "duration": 5,
    "start_time": "2024-11-11T19:21:29.598Z"
   },
   {
    "duration": 920,
    "start_time": "2024-11-11T19:21:29.605Z"
   },
   {
    "duration": 3,
    "start_time": "2024-11-11T19:23:19.198Z"
   },
   {
    "duration": 1058,
    "start_time": "2024-11-11T19:23:26.964Z"
   },
   {
    "duration": 245,
    "start_time": "2024-11-11T19:23:28.025Z"
   },
   {
    "duration": 6,
    "start_time": "2024-11-11T19:23:28.272Z"
   },
   {
    "duration": 50,
    "start_time": "2024-11-11T19:23:28.280Z"
   },
   {
    "duration": 61,
    "start_time": "2024-11-11T19:23:28.334Z"
   },
   {
    "duration": 44,
    "start_time": "2024-11-11T19:23:28.397Z"
   },
   {
    "duration": 4,
    "start_time": "2024-11-11T19:23:28.443Z"
   },
   {
    "duration": 52,
    "start_time": "2024-11-11T19:23:28.449Z"
   },
   {
    "duration": 6,
    "start_time": "2024-11-11T19:23:28.503Z"
   },
   {
    "duration": 4,
    "start_time": "2024-11-11T19:23:28.511Z"
   },
   {
    "duration": 6,
    "start_time": "2024-11-11T19:23:28.517Z"
   },
   {
    "duration": 1173,
    "start_time": "2024-11-11T19:23:28.525Z"
   },
   {
    "duration": 4,
    "start_time": "2024-11-11T19:24:34.980Z"
   },
   {
    "duration": 1029,
    "start_time": "2024-11-11T19:24:39.897Z"
   },
   {
    "duration": 286,
    "start_time": "2024-11-11T19:24:40.928Z"
   },
   {
    "duration": 4,
    "start_time": "2024-11-11T19:24:41.215Z"
   },
   {
    "duration": 66,
    "start_time": "2024-11-11T19:24:41.221Z"
   },
   {
    "duration": 48,
    "start_time": "2024-11-11T19:24:41.289Z"
   },
   {
    "duration": 57,
    "start_time": "2024-11-11T19:24:41.339Z"
   },
   {
    "duration": 5,
    "start_time": "2024-11-11T19:24:41.398Z"
   },
   {
    "duration": 25,
    "start_time": "2024-11-11T19:24:41.404Z"
   },
   {
    "duration": 56,
    "start_time": "2024-11-11T19:24:41.431Z"
   },
   {
    "duration": 3,
    "start_time": "2024-11-11T19:24:41.490Z"
   },
   {
    "duration": 4,
    "start_time": "2024-11-11T19:24:41.495Z"
   },
   {
    "duration": 865,
    "start_time": "2024-11-11T19:24:41.500Z"
   },
   {
    "duration": 3,
    "start_time": "2024-11-11T19:56:30.009Z"
   },
   {
    "duration": 1013,
    "start_time": "2024-11-11T19:56:35.046Z"
   },
   {
    "duration": 233,
    "start_time": "2024-11-11T19:56:36.061Z"
   },
   {
    "duration": 3,
    "start_time": "2024-11-11T19:56:36.297Z"
   },
   {
    "duration": 52,
    "start_time": "2024-11-11T19:56:36.302Z"
   },
   {
    "duration": 65,
    "start_time": "2024-11-11T19:56:36.356Z"
   },
   {
    "duration": 65,
    "start_time": "2024-11-11T19:56:36.422Z"
   },
   {
    "duration": 4,
    "start_time": "2024-11-11T19:56:36.489Z"
   },
   {
    "duration": 21,
    "start_time": "2024-11-11T19:56:36.495Z"
   },
   {
    "duration": 6,
    "start_time": "2024-11-11T19:56:36.520Z"
   },
   {
    "duration": 59,
    "start_time": "2024-11-11T19:56:36.529Z"
   },
   {
    "duration": 7,
    "start_time": "2024-11-11T19:56:36.591Z"
   },
   {
    "duration": 784,
    "start_time": "2024-11-11T19:56:36.599Z"
   },
   {
    "duration": 2,
    "start_time": "2024-11-11T19:57:11.236Z"
   },
   {
    "duration": 1040,
    "start_time": "2024-11-11T19:57:16.936Z"
   },
   {
    "duration": 234,
    "start_time": "2024-11-11T19:57:17.978Z"
   },
   {
    "duration": 2,
    "start_time": "2024-11-11T19:57:18.214Z"
   },
   {
    "duration": 69,
    "start_time": "2024-11-11T19:57:18.218Z"
   },
   {
    "duration": 42,
    "start_time": "2024-11-11T19:57:18.290Z"
   },
   {
    "duration": 71,
    "start_time": "2024-11-11T19:57:18.334Z"
   },
   {
    "duration": 5,
    "start_time": "2024-11-11T19:57:18.406Z"
   },
   {
    "duration": 26,
    "start_time": "2024-11-11T19:57:18.413Z"
   },
   {
    "duration": 4,
    "start_time": "2024-11-11T19:57:18.440Z"
   },
   {
    "duration": 44,
    "start_time": "2024-11-11T19:57:18.445Z"
   },
   {
    "duration": 4,
    "start_time": "2024-11-11T19:57:18.498Z"
   },
   {
    "duration": 816,
    "start_time": "2024-11-11T19:57:18.504Z"
   },
   {
    "duration": 5,
    "start_time": "2024-11-11T20:09:24.470Z"
   },
   {
    "duration": 4,
    "start_time": "2024-11-11T20:11:32.468Z"
   },
   {
    "duration": 997,
    "start_time": "2024-11-11T20:11:41.339Z"
   },
   {
    "duration": 244,
    "start_time": "2024-11-11T20:11:42.338Z"
   },
   {
    "duration": 3,
    "start_time": "2024-11-11T20:11:42.584Z"
   },
   {
    "duration": 46,
    "start_time": "2024-11-11T20:11:42.590Z"
   },
   {
    "duration": 71,
    "start_time": "2024-11-11T20:11:42.637Z"
   },
   {
    "duration": 39,
    "start_time": "2024-11-11T20:11:42.710Z"
   },
   {
    "duration": 6,
    "start_time": "2024-11-11T20:11:42.751Z"
   },
   {
    "duration": 52,
    "start_time": "2024-11-11T20:11:42.758Z"
   },
   {
    "duration": 6,
    "start_time": "2024-11-11T20:11:42.813Z"
   },
   {
    "duration": 4,
    "start_time": "2024-11-11T20:11:42.823Z"
   },
   {
    "duration": 6,
    "start_time": "2024-11-11T20:11:42.829Z"
   },
   {
    "duration": 788,
    "start_time": "2024-11-11T20:11:42.886Z"
   },
   {
    "duration": 3,
    "start_time": "2024-11-11T20:12:40.455Z"
   },
   {
    "duration": 760,
    "start_time": "2024-11-11T20:12:43.016Z"
   },
   {
    "duration": 3,
    "start_time": "2024-11-11T20:13:41.293Z"
   },
   {
    "duration": 708,
    "start_time": "2024-11-11T20:13:43.933Z"
   },
   {
    "duration": 3,
    "start_time": "2024-11-11T20:14:16.147Z"
   },
   {
    "duration": 727,
    "start_time": "2024-11-11T20:14:17.934Z"
   },
   {
    "duration": 3,
    "start_time": "2024-11-11T20:15:28.527Z"
   },
   {
    "duration": 778,
    "start_time": "2024-11-11T20:15:30.283Z"
   },
   {
    "duration": 781,
    "start_time": "2024-11-11T20:16:59.658Z"
   },
   {
    "duration": 775,
    "start_time": "2024-11-11T20:17:22.072Z"
   },
   {
    "duration": 795,
    "start_time": "2024-11-11T20:17:29.260Z"
   },
   {
    "duration": 4,
    "start_time": "2024-11-11T20:25:12.052Z"
   },
   {
    "duration": 4,
    "start_time": "2024-11-11T20:29:19.251Z"
   },
   {
    "duration": 4,
    "start_time": "2024-11-11T20:45:01.720Z"
   },
   {
    "duration": 4,
    "start_time": "2024-11-11T20:46:23.760Z"
   },
   {
    "duration": 771,
    "start_time": "2024-11-11T20:46:25.997Z"
   },
   {
    "duration": 761,
    "start_time": "2024-11-11T20:47:08.792Z"
   },
   {
    "duration": 3,
    "start_time": "2024-11-11T20:47:18.918Z"
   },
   {
    "duration": 718,
    "start_time": "2024-11-11T20:47:22.807Z"
   },
   {
    "duration": 4,
    "start_time": "2024-11-11T20:56:37.480Z"
   },
   {
    "duration": 766,
    "start_time": "2024-11-11T20:56:40.471Z"
   },
   {
    "duration": 5,
    "start_time": "2024-11-11T20:57:01.704Z"
   },
   {
    "duration": 692,
    "start_time": "2024-11-11T20:57:03.719Z"
   },
   {
    "duration": 4,
    "start_time": "2024-11-11T20:58:12.391Z"
   },
   {
    "duration": 698,
    "start_time": "2024-11-11T20:58:14.329Z"
   },
   {
    "duration": 4,
    "start_time": "2024-11-11T21:09:36.445Z"
   },
   {
    "duration": 4,
    "start_time": "2024-11-11T21:09:48.069Z"
   },
   {
    "duration": 18,
    "start_time": "2024-11-11T21:09:49.798Z"
   },
   {
    "duration": 3,
    "start_time": "2024-11-11T21:11:11.934Z"
   },
   {
    "duration": 994,
    "start_time": "2024-11-11T21:13:43.065Z"
   },
   {
    "duration": 222,
    "start_time": "2024-11-11T21:13:44.061Z"
   },
   {
    "duration": 3,
    "start_time": "2024-11-11T21:13:44.285Z"
   },
   {
    "duration": 45,
    "start_time": "2024-11-11T21:13:44.290Z"
   },
   {
    "duration": 69,
    "start_time": "2024-11-11T21:13:44.337Z"
   },
   {
    "duration": 39,
    "start_time": "2024-11-11T21:13:44.409Z"
   },
   {
    "duration": 4,
    "start_time": "2024-11-11T21:13:44.450Z"
   },
   {
    "duration": 36,
    "start_time": "2024-11-11T21:13:44.456Z"
   },
   {
    "duration": 4,
    "start_time": "2024-11-11T21:13:44.494Z"
   },
   {
    "duration": 3,
    "start_time": "2024-11-11T21:13:44.499Z"
   },
   {
    "duration": 5,
    "start_time": "2024-11-11T21:13:44.504Z"
   },
   {
    "duration": 337,
    "start_time": "2024-11-11T21:13:44.511Z"
   },
   {
    "duration": 395,
    "start_time": "2024-11-11T21:14:24.350Z"
   },
   {
    "duration": 371,
    "start_time": "2024-11-11T21:17:26.942Z"
   },
   {
    "duration": 20,
    "start_time": "2024-11-11T21:18:07.693Z"
   },
   {
    "duration": 373,
    "start_time": "2024-11-11T21:18:14.991Z"
   },
   {
    "duration": 372,
    "start_time": "2024-11-11T21:18:42.266Z"
   },
   {
    "duration": 20,
    "start_time": "2024-11-11T21:19:07.531Z"
   },
   {
    "duration": 425,
    "start_time": "2024-11-11T21:19:19.574Z"
   },
   {
    "duration": 382,
    "start_time": "2024-11-11T21:19:23.394Z"
   },
   {
    "duration": 450,
    "start_time": "2024-11-11T21:19:42.154Z"
   },
   {
    "duration": 366,
    "start_time": "2024-11-11T21:19:45.402Z"
   },
   {
    "duration": 989,
    "start_time": "2024-11-11T21:19:58.558Z"
   },
   {
    "duration": 222,
    "start_time": "2024-11-11T21:19:59.549Z"
   },
   {
    "duration": 3,
    "start_time": "2024-11-11T21:19:59.773Z"
   },
   {
    "duration": 48,
    "start_time": "2024-11-11T21:19:59.778Z"
   },
   {
    "duration": 64,
    "start_time": "2024-11-11T21:19:59.828Z"
   },
   {
    "duration": 40,
    "start_time": "2024-11-11T21:19:59.893Z"
   },
   {
    "duration": 4,
    "start_time": "2024-11-11T21:19:59.934Z"
   },
   {
    "duration": 47,
    "start_time": "2024-11-11T21:19:59.940Z"
   },
   {
    "duration": 5,
    "start_time": "2024-11-11T21:19:59.988Z"
   },
   {
    "duration": 3,
    "start_time": "2024-11-11T21:19:59.994Z"
   },
   {
    "duration": 5,
    "start_time": "2024-11-11T21:19:59.999Z"
   },
   {
    "duration": 509,
    "start_time": "2024-11-11T21:20:00.005Z"
   },
   {
    "duration": 373,
    "start_time": "2024-11-11T21:20:00.515Z"
   },
   {
    "duration": 19,
    "start_time": "2024-11-11T21:20:54.911Z"
   },
   {
    "duration": 19,
    "start_time": "2024-11-11T21:20:56.895Z"
   },
   {
    "duration": 987,
    "start_time": "2024-11-11T21:21:11.970Z"
   },
   {
    "duration": 229,
    "start_time": "2024-11-11T21:21:12.959Z"
   },
   {
    "duration": 4,
    "start_time": "2024-11-11T21:21:13.190Z"
   },
   {
    "duration": 48,
    "start_time": "2024-11-11T21:21:13.197Z"
   },
   {
    "duration": 61,
    "start_time": "2024-11-11T21:21:13.247Z"
   },
   {
    "duration": 39,
    "start_time": "2024-11-11T21:21:13.310Z"
   },
   {
    "duration": 5,
    "start_time": "2024-11-11T21:21:13.350Z"
   },
   {
    "duration": 53,
    "start_time": "2024-11-11T21:21:13.357Z"
   },
   {
    "duration": 83,
    "start_time": "2024-11-11T21:21:13.412Z"
   },
   {
    "duration": 96,
    "start_time": "2024-11-11T21:21:13.499Z"
   },
   {
    "duration": 4,
    "start_time": "2024-11-11T21:21:13.597Z"
   },
   {
    "duration": 4,
    "start_time": "2024-11-11T21:21:13.603Z"
   },
   {
    "duration": 78,
    "start_time": "2024-11-11T21:21:13.609Z"
   },
   {
    "duration": 443,
    "start_time": "2024-11-11T21:21:13.689Z"
   },
   {
    "duration": 384,
    "start_time": "2024-11-11T21:21:14.134Z"
   },
   {
    "duration": 388,
    "start_time": "2024-11-11T21:22:12.565Z"
   },
   {
    "duration": 386,
    "start_time": "2024-11-11T21:22:15.603Z"
   },
   {
    "duration": 4,
    "start_time": "2024-11-11T21:24:52.482Z"
   },
   {
    "duration": 984,
    "start_time": "2024-11-11T21:24:57.536Z"
   },
   {
    "duration": 222,
    "start_time": "2024-11-11T21:24:58.522Z"
   },
   {
    "duration": 3,
    "start_time": "2024-11-11T21:24:58.746Z"
   },
   {
    "duration": 54,
    "start_time": "2024-11-11T21:24:58.751Z"
   },
   {
    "duration": 39,
    "start_time": "2024-11-11T21:24:58.807Z"
   },
   {
    "duration": 65,
    "start_time": "2024-11-11T21:24:58.848Z"
   },
   {
    "duration": 3,
    "start_time": "2024-11-11T21:24:58.915Z"
   },
   {
    "duration": 21,
    "start_time": "2024-11-11T21:24:58.920Z"
   },
   {
    "duration": 65,
    "start_time": "2024-11-11T21:24:58.943Z"
   },
   {
    "duration": 102,
    "start_time": "2024-11-11T21:24:59.009Z"
   },
   {
    "duration": 5,
    "start_time": "2024-11-11T21:24:59.190Z"
   },
   {
    "duration": 5,
    "start_time": "2024-11-11T21:24:59.199Z"
   },
   {
    "duration": 4,
    "start_time": "2024-11-11T21:24:59.207Z"
   },
   {
    "duration": 387,
    "start_time": "2024-11-11T21:24:59.287Z"
   },
   {
    "duration": 380,
    "start_time": "2024-11-11T21:24:59.676Z"
   },
   {
    "duration": 266,
    "start_time": "2024-11-11T21:25:11.267Z"
   },
   {
    "duration": 4,
    "start_time": "2024-11-11T21:29:31.797Z"
   },
   {
    "duration": 3,
    "start_time": "2024-11-11T21:35:08.565Z"
   },
   {
    "duration": 4,
    "start_time": "2024-11-11T21:39:32.801Z"
   },
   {
    "duration": 979,
    "start_time": "2024-11-11T21:39:46.372Z"
   },
   {
    "duration": 223,
    "start_time": "2024-11-11T21:39:47.353Z"
   },
   {
    "duration": 4,
    "start_time": "2024-11-11T21:39:47.577Z"
   },
   {
    "duration": 48,
    "start_time": "2024-11-11T21:39:47.583Z"
   },
   {
    "duration": 62,
    "start_time": "2024-11-11T21:39:47.632Z"
   },
   {
    "duration": 39,
    "start_time": "2024-11-11T21:39:47.696Z"
   },
   {
    "duration": 5,
    "start_time": "2024-11-11T21:39:47.736Z"
   },
   {
    "duration": 273,
    "start_time": "2024-11-11T21:39:47.742Z"
   },
   {
    "duration": 0,
    "start_time": "2024-11-11T21:39:48.017Z"
   },
   {
    "duration": 0,
    "start_time": "2024-11-11T21:39:48.019Z"
   },
   {
    "duration": 0,
    "start_time": "2024-11-11T21:39:48.020Z"
   },
   {
    "duration": 1,
    "start_time": "2024-11-11T21:39:48.022Z"
   },
   {
    "duration": 0,
    "start_time": "2024-11-11T21:39:48.024Z"
   },
   {
    "duration": 0,
    "start_time": "2024-11-11T21:39:48.025Z"
   },
   {
    "duration": 0,
    "start_time": "2024-11-11T21:39:48.027Z"
   },
   {
    "duration": 5,
    "start_time": "2024-11-11T21:40:14.915Z"
   },
   {
    "duration": 970,
    "start_time": "2024-11-11T21:40:21.080Z"
   },
   {
    "duration": 236,
    "start_time": "2024-11-11T21:40:22.053Z"
   },
   {
    "duration": 4,
    "start_time": "2024-11-11T21:40:22.290Z"
   },
   {
    "duration": 45,
    "start_time": "2024-11-11T21:40:22.298Z"
   },
   {
    "duration": 69,
    "start_time": "2024-11-11T21:40:22.345Z"
   },
   {
    "duration": 38,
    "start_time": "2024-11-11T21:40:22.416Z"
   },
   {
    "duration": 5,
    "start_time": "2024-11-11T21:40:22.456Z"
   },
   {
    "duration": 21,
    "start_time": "2024-11-11T21:40:22.487Z"
   },
   {
    "duration": 90,
    "start_time": "2024-11-11T21:40:22.510Z"
   },
   {
    "duration": 98,
    "start_time": "2024-11-11T21:40:22.606Z"
   },
   {
    "duration": 79,
    "start_time": "2024-11-11T21:40:22.708Z"
   },
   {
    "duration": 3,
    "start_time": "2024-11-11T21:40:22.788Z"
   },
   {
    "duration": 6,
    "start_time": "2024-11-11T21:40:22.795Z"
   },
   {
    "duration": 469,
    "start_time": "2024-11-11T21:40:22.803Z"
   },
   {
    "duration": 303,
    "start_time": "2024-11-11T21:40:23.274Z"
   },
   {
    "duration": 385,
    "start_time": "2024-11-11T21:40:40.395Z"
   },
   {
    "duration": 279,
    "start_time": "2024-11-11T21:40:42.904Z"
   },
   {
    "duration": 219,
    "start_time": "2024-11-11T22:44:43.586Z"
   },
   {
    "duration": 3523,
    "start_time": "2024-11-11T22:45:05.754Z"
   },
   {
    "duration": 554,
    "start_time": "2024-11-11T22:45:09.280Z"
   },
   {
    "duration": 3,
    "start_time": "2024-11-11T22:45:09.836Z"
   },
   {
    "duration": 62,
    "start_time": "2024-11-11T22:45:09.842Z"
   },
   {
    "duration": 62,
    "start_time": "2024-11-11T22:45:09.910Z"
   },
   {
    "duration": 66,
    "start_time": "2024-11-11T22:45:09.983Z"
   },
   {
    "duration": 30,
    "start_time": "2024-11-11T22:45:10.051Z"
   },
   {
    "duration": 9,
    "start_time": "2024-11-11T22:45:10.086Z"
   },
   {
    "duration": 50,
    "start_time": "2024-11-11T22:45:10.111Z"
   },
   {
    "duration": 100,
    "start_time": "2024-11-11T22:45:10.162Z"
   },
   {
    "duration": 68,
    "start_time": "2024-11-11T22:45:10.263Z"
   },
   {
    "duration": 11,
    "start_time": "2024-11-11T22:45:10.347Z"
   },
   {
    "duration": 13,
    "start_time": "2024-11-11T22:45:10.373Z"
   },
   {
    "duration": 15,
    "start_time": "2024-11-11T22:45:10.395Z"
   },
   {
    "duration": 506,
    "start_time": "2024-11-11T22:45:10.411Z"
   },
   {
    "duration": 305,
    "start_time": "2024-11-11T22:45:10.924Z"
   },
   {
    "duration": 6,
    "start_time": "2024-11-11T22:46:24.590Z"
   },
   {
    "duration": 155,
    "start_time": "2024-11-11T22:46:30.548Z"
   },
   {
    "duration": 171,
    "start_time": "2024-11-11T22:46:53.269Z"
   },
   {
    "duration": 126,
    "start_time": "2024-11-11T22:46:59.167Z"
   },
   {
    "duration": 12,
    "start_time": "2024-11-11T22:48:26.329Z"
   },
   {
    "duration": 8,
    "start_time": "2024-11-11T22:49:08.667Z"
   },
   {
    "duration": 124,
    "start_time": "2024-11-11T22:49:19.766Z"
   },
   {
    "duration": 27,
    "start_time": "2024-11-11T22:50:19.669Z"
   },
   {
    "duration": 29,
    "start_time": "2024-11-11T22:50:49.179Z"
   },
   {
    "duration": 91,
    "start_time": "2024-11-11T22:54:09.659Z"
   },
   {
    "duration": 125,
    "start_time": "2024-11-11T22:54:29.263Z"
   },
   {
    "duration": 129,
    "start_time": "2024-11-11T22:54:33.995Z"
   },
   {
    "duration": 169,
    "start_time": "2024-11-11T22:56:16.439Z"
   },
   {
    "duration": 6,
    "start_time": "2024-11-11T23:00:41.375Z"
   },
   {
    "duration": 1041,
    "start_time": "2024-11-11T23:01:04.500Z"
   },
   {
    "duration": 348,
    "start_time": "2024-11-11T23:01:05.547Z"
   },
   {
    "duration": 3,
    "start_time": "2024-11-11T23:01:05.897Z"
   },
   {
    "duration": 70,
    "start_time": "2024-11-11T23:01:05.903Z"
   },
   {
    "duration": 47,
    "start_time": "2024-11-11T23:01:05.978Z"
   },
   {
    "duration": 53,
    "start_time": "2024-11-11T23:01:06.027Z"
   },
   {
    "duration": 5,
    "start_time": "2024-11-11T23:01:06.081Z"
   },
   {
    "duration": 4,
    "start_time": "2024-11-11T23:01:06.088Z"
   },
   {
    "duration": 95,
    "start_time": "2024-11-11T23:01:06.093Z"
   },
   {
    "duration": 94,
    "start_time": "2024-11-11T23:01:06.195Z"
   },
   {
    "duration": 95,
    "start_time": "2024-11-11T23:01:06.295Z"
   },
   {
    "duration": 6,
    "start_time": "2024-11-11T23:01:06.398Z"
   },
   {
    "duration": 41,
    "start_time": "2024-11-11T23:01:06.407Z"
   },
   {
    "duration": 20,
    "start_time": "2024-11-11T23:01:06.459Z"
   },
   {
    "duration": 423,
    "start_time": "2024-11-11T23:01:06.480Z"
   },
   {
    "duration": 313,
    "start_time": "2024-11-11T23:01:06.905Z"
   },
   {
    "duration": 1103,
    "start_time": "2024-11-11T23:02:31.670Z"
   },
   {
    "duration": 291,
    "start_time": "2024-11-11T23:02:32.776Z"
   },
   {
    "duration": 3,
    "start_time": "2024-11-11T23:02:33.069Z"
   },
   {
    "duration": 48,
    "start_time": "2024-11-11T23:02:33.075Z"
   },
   {
    "duration": 53,
    "start_time": "2024-11-11T23:02:33.125Z"
   },
   {
    "duration": 41,
    "start_time": "2024-11-11T23:02:33.180Z"
   },
   {
    "duration": 2,
    "start_time": "2024-11-11T23:02:33.223Z"
   },
   {
    "duration": 22,
    "start_time": "2024-11-11T23:02:33.227Z"
   },
   {
    "duration": 37,
    "start_time": "2024-11-11T23:02:33.251Z"
   },
   {
    "duration": 78,
    "start_time": "2024-11-11T23:02:33.291Z"
   },
   {
    "duration": 96,
    "start_time": "2024-11-11T23:02:33.371Z"
   },
   {
    "duration": 11,
    "start_time": "2024-11-11T23:02:33.469Z"
   },
   {
    "duration": 64,
    "start_time": "2024-11-11T23:02:33.483Z"
   },
   {
    "duration": 16,
    "start_time": "2024-11-11T23:02:33.548Z"
   },
   {
    "duration": 432,
    "start_time": "2024-11-11T23:02:33.568Z"
   },
   {
    "duration": 307,
    "start_time": "2024-11-11T23:02:34.002Z"
   },
   {
    "duration": 459,
    "start_time": "2024-11-11T23:25:28.371Z"
   },
   {
    "duration": 376,
    "start_time": "2024-11-11T23:25:47.280Z"
   },
   {
    "duration": 357,
    "start_time": "2024-11-11T23:25:52.357Z"
   },
   {
    "duration": 352,
    "start_time": "2024-11-11T23:26:08.774Z"
   },
   {
    "duration": 347,
    "start_time": "2024-11-11T23:26:13.499Z"
   },
   {
    "duration": 377,
    "start_time": "2024-11-11T23:26:27.777Z"
   },
   {
    "duration": 365,
    "start_time": "2024-11-11T23:26:39.028Z"
   },
   {
    "duration": 353,
    "start_time": "2024-11-11T23:26:48.079Z"
   },
   {
    "duration": 383,
    "start_time": "2024-11-11T23:27:13.010Z"
   },
   {
    "duration": 388,
    "start_time": "2024-11-11T23:27:16.731Z"
   },
   {
    "duration": 366,
    "start_time": "2024-11-11T23:27:22.026Z"
   },
   {
    "duration": 989,
    "start_time": "2024-11-12T00:00:32.629Z"
   },
   {
    "duration": 255,
    "start_time": "2024-11-12T00:00:33.620Z"
   },
   {
    "duration": 3,
    "start_time": "2024-11-12T00:00:33.877Z"
   },
   {
    "duration": 47,
    "start_time": "2024-11-12T00:00:33.882Z"
   },
   {
    "duration": 51,
    "start_time": "2024-11-12T00:00:33.931Z"
   },
   {
    "duration": 66,
    "start_time": "2024-11-12T00:00:33.984Z"
   },
   {
    "duration": 7,
    "start_time": "2024-11-12T00:00:34.051Z"
   },
   {
    "duration": 29,
    "start_time": "2024-11-12T00:00:34.059Z"
   },
   {
    "duration": 96,
    "start_time": "2024-11-12T00:00:34.090Z"
   },
   {
    "duration": 99,
    "start_time": "2024-11-12T00:00:34.188Z"
   },
   {
    "duration": 3,
    "start_time": "2024-11-12T00:00:34.289Z"
   },
   {
    "duration": 7,
    "start_time": "2024-11-12T00:00:34.348Z"
   },
   {
    "duration": 13,
    "start_time": "2024-11-12T00:00:34.361Z"
   },
   {
    "duration": 444,
    "start_time": "2024-11-12T00:00:34.382Z"
   },
   {
    "duration": 305,
    "start_time": "2024-11-12T00:00:34.828Z"
   },
   {
    "duration": 4,
    "start_time": "2024-11-12T00:04:10.320Z"
   },
   {
    "duration": 22,
    "start_time": "2024-11-12T00:04:11.816Z"
   },
   {
    "duration": 40,
    "start_time": "2024-11-12T00:04:41.141Z"
   },
   {
    "duration": 21,
    "start_time": "2024-11-12T00:04:42.704Z"
   },
   {
    "duration": 386,
    "start_time": "2024-11-12T00:05:16.476Z"
   },
   {
    "duration": 282,
    "start_time": "2024-11-12T00:05:21.305Z"
   },
   {
    "duration": 1031,
    "start_time": "2024-11-12T00:06:07.670Z"
   },
   {
    "duration": 269,
    "start_time": "2024-11-12T00:06:08.703Z"
   },
   {
    "duration": 3,
    "start_time": "2024-11-12T00:06:08.974Z"
   },
   {
    "duration": 52,
    "start_time": "2024-11-12T00:06:08.981Z"
   },
   {
    "duration": 67,
    "start_time": "2024-11-12T00:06:09.036Z"
   },
   {
    "duration": 66,
    "start_time": "2024-11-12T00:06:09.105Z"
   },
   {
    "duration": 4,
    "start_time": "2024-11-12T00:06:09.173Z"
   },
   {
    "duration": 27,
    "start_time": "2024-11-12T00:06:09.179Z"
   },
   {
    "duration": 76,
    "start_time": "2024-11-12T00:06:09.208Z"
   },
   {
    "duration": 101,
    "start_time": "2024-11-12T00:06:09.288Z"
   },
   {
    "duration": 65,
    "start_time": "2024-11-12T00:06:09.393Z"
   },
   {
    "duration": 10,
    "start_time": "2024-11-12T00:06:09.467Z"
   },
   {
    "duration": 7,
    "start_time": "2024-11-12T00:06:09.482Z"
   },
   {
    "duration": 474,
    "start_time": "2024-11-12T00:06:09.492Z"
   },
   {
    "duration": 307,
    "start_time": "2024-11-12T00:06:09.968Z"
   },
   {
    "duration": 392,
    "start_time": "2024-11-12T00:38:08.033Z"
   },
   {
    "duration": 401,
    "start_time": "2024-11-12T00:38:19.429Z"
   },
   {
    "duration": 438,
    "start_time": "2024-11-12T00:41:37.032Z"
   },
   {
    "duration": 426,
    "start_time": "2024-11-12T00:41:50.471Z"
   },
   {
    "duration": 2663,
    "start_time": "2024-11-12T02:11:42.493Z"
   },
   {
    "duration": 313,
    "start_time": "2024-11-12T02:11:45.159Z"
   },
   {
    "duration": 4,
    "start_time": "2024-11-12T02:11:45.473Z"
   },
   {
    "duration": 51,
    "start_time": "2024-11-12T02:11:45.480Z"
   },
   {
    "duration": 41,
    "start_time": "2024-11-12T02:11:45.532Z"
   },
   {
    "duration": 68,
    "start_time": "2024-11-12T02:11:45.574Z"
   },
   {
    "duration": 5,
    "start_time": "2024-11-12T02:11:45.643Z"
   },
   {
    "duration": 21,
    "start_time": "2024-11-12T02:11:45.650Z"
   },
   {
    "duration": 60,
    "start_time": "2024-11-12T02:11:45.673Z"
   },
   {
    "duration": 99,
    "start_time": "2024-11-12T02:11:45.813Z"
   },
   {
    "duration": 4,
    "start_time": "2024-11-12T02:11:45.914Z"
   },
   {
    "duration": 2,
    "start_time": "2024-11-12T02:11:45.920Z"
   },
   {
    "duration": 6,
    "start_time": "2024-11-12T02:11:45.927Z"
   },
   {
    "duration": 467,
    "start_time": "2024-11-12T02:11:45.936Z"
   },
   {
    "duration": 381,
    "start_time": "2024-11-12T02:11:46.405Z"
   },
   {
    "duration": 446,
    "start_time": "2024-11-12T02:11:46.789Z"
   },
   {
    "duration": 2766,
    "start_time": "2024-11-12T17:12:07.565Z"
   },
   {
    "duration": 319,
    "start_time": "2024-11-12T17:12:10.334Z"
   },
   {
    "duration": 4,
    "start_time": "2024-11-12T17:12:10.654Z"
   },
   {
    "duration": 46,
    "start_time": "2024-11-12T17:12:10.660Z"
   },
   {
    "duration": 55,
    "start_time": "2024-11-12T17:12:10.709Z"
   },
   {
    "duration": 42,
    "start_time": "2024-11-12T17:12:10.765Z"
   },
   {
    "duration": 4,
    "start_time": "2024-11-12T17:12:10.832Z"
   },
   {
    "duration": 23,
    "start_time": "2024-11-12T17:12:10.838Z"
   },
   {
    "duration": 82,
    "start_time": "2024-11-12T17:12:10.865Z"
   },
   {
    "duration": 104,
    "start_time": "2024-11-12T17:12:10.951Z"
   },
   {
    "duration": 78,
    "start_time": "2024-11-12T17:12:11.057Z"
   },
   {
    "duration": 5,
    "start_time": "2024-11-12T17:12:11.138Z"
   },
   {
    "duration": 7,
    "start_time": "2024-11-12T17:12:11.148Z"
   },
   {
    "duration": 457,
    "start_time": "2024-11-12T17:12:11.158Z"
   },
   {
    "duration": 387,
    "start_time": "2024-11-12T17:12:11.617Z"
   },
   {
    "duration": 389,
    "start_time": "2024-11-12T17:12:12.005Z"
   },
   {
    "duration": 1000,
    "start_time": "2024-11-12T17:26:25.508Z"
   },
   {
    "duration": 233,
    "start_time": "2024-11-12T17:26:26.511Z"
   },
   {
    "duration": 3,
    "start_time": "2024-11-12T17:26:26.746Z"
   },
   {
    "duration": 48,
    "start_time": "2024-11-12T17:26:26.751Z"
   },
   {
    "duration": 68,
    "start_time": "2024-11-12T17:26:26.802Z"
   },
   {
    "duration": 68,
    "start_time": "2024-11-12T17:26:26.872Z"
   },
   {
    "duration": 4,
    "start_time": "2024-11-12T17:26:26.942Z"
   },
   {
    "duration": 23,
    "start_time": "2024-11-12T17:26:26.948Z"
   },
   {
    "duration": 78,
    "start_time": "2024-11-12T17:26:26.973Z"
   },
   {
    "duration": 96,
    "start_time": "2024-11-12T17:26:27.053Z"
   },
   {
    "duration": 3,
    "start_time": "2024-11-12T17:26:27.151Z"
   },
   {
    "duration": 78,
    "start_time": "2024-11-12T17:26:27.155Z"
   },
   {
    "duration": 12,
    "start_time": "2024-11-12T17:26:27.235Z"
   },
   {
    "duration": 288,
    "start_time": "2024-11-12T17:26:27.250Z"
   },
   {
    "duration": 0,
    "start_time": "2024-11-12T17:26:27.539Z"
   },
   {
    "duration": 0,
    "start_time": "2024-11-12T17:26:27.540Z"
   },
   {
    "duration": 2741,
    "start_time": "2024-11-13T02:05:16.239Z"
   },
   {
    "duration": 307,
    "start_time": "2024-11-13T02:05:18.983Z"
   },
   {
    "duration": 3,
    "start_time": "2024-11-13T02:05:19.293Z"
   },
   {
    "duration": 54,
    "start_time": "2024-11-13T02:05:19.298Z"
   },
   {
    "duration": 42,
    "start_time": "2024-11-13T02:05:19.354Z"
   },
   {
    "duration": 65,
    "start_time": "2024-11-13T02:05:19.398Z"
   },
   {
    "duration": 4,
    "start_time": "2024-11-13T02:05:19.465Z"
   },
   {
    "duration": 22,
    "start_time": "2024-11-13T02:05:19.471Z"
   },
   {
    "duration": 54,
    "start_time": "2024-11-13T02:05:19.495Z"
   },
   {
    "duration": 100,
    "start_time": "2024-11-13T02:05:19.551Z"
   },
   {
    "duration": 79,
    "start_time": "2024-11-13T02:05:19.653Z"
   },
   {
    "duration": 3,
    "start_time": "2024-11-13T02:05:19.735Z"
   },
   {
    "duration": 6,
    "start_time": "2024-11-13T02:05:19.740Z"
   },
   {
    "duration": 465,
    "start_time": "2024-11-13T02:05:19.750Z"
   },
   {
    "duration": 386,
    "start_time": "2024-11-13T02:05:20.217Z"
   },
   {
    "duration": 377,
    "start_time": "2024-11-13T02:05:20.605Z"
   },
   {
    "duration": 442,
    "start_time": "2024-11-13T03:15:22.338Z"
   },
   {
    "duration": 309,
    "start_time": "2024-11-13T03:15:30.053Z"
   },
   {
    "duration": 896,
    "start_time": "2024-11-13T03:39:03.507Z"
   },
   {
    "duration": 227,
    "start_time": "2024-11-13T03:39:04.405Z"
   },
   {
    "duration": 3,
    "start_time": "2024-11-13T03:39:04.634Z"
   },
   {
    "duration": 47,
    "start_time": "2024-11-13T03:39:04.639Z"
   },
   {
    "duration": 72,
    "start_time": "2024-11-13T03:39:04.689Z"
   },
   {
    "duration": 40,
    "start_time": "2024-11-13T03:39:04.762Z"
   },
   {
    "duration": 5,
    "start_time": "2024-11-13T03:39:04.804Z"
   },
   {
    "duration": 24,
    "start_time": "2024-11-13T03:39:04.831Z"
   },
   {
    "duration": 87,
    "start_time": "2024-11-13T03:39:04.857Z"
   },
   {
    "duration": 107,
    "start_time": "2024-11-13T03:39:04.946Z"
   },
   {
    "duration": 3,
    "start_time": "2024-11-13T03:39:05.055Z"
   },
   {
    "duration": 76,
    "start_time": "2024-11-13T03:39:05.060Z"
   },
   {
    "duration": 6,
    "start_time": "2024-11-13T03:39:05.137Z"
   },
   {
    "duration": 447,
    "start_time": "2024-11-13T03:39:05.146Z"
   },
   {
    "duration": 430,
    "start_time": "2024-11-13T03:39:05.595Z"
   },
   {
    "duration": 400,
    "start_time": "2024-11-13T03:39:06.030Z"
   },
   {
    "duration": 291,
    "start_time": "2024-11-13T03:39:06.432Z"
   },
   {
    "duration": 7,
    "start_time": "2024-11-13T03:39:23.128Z"
   },
   {
    "duration": 897,
    "start_time": "2024-11-13T03:39:31.215Z"
   },
   {
    "duration": 220,
    "start_time": "2024-11-13T03:39:32.114Z"
   },
   {
    "duration": 3,
    "start_time": "2024-11-13T03:39:32.336Z"
   },
   {
    "duration": 48,
    "start_time": "2024-11-13T03:39:32.342Z"
   },
   {
    "duration": 63,
    "start_time": "2024-11-13T03:39:32.391Z"
   },
   {
    "duration": 41,
    "start_time": "2024-11-13T03:39:32.456Z"
   },
   {
    "duration": 5,
    "start_time": "2024-11-13T03:39:32.499Z"
   },
   {
    "duration": 28,
    "start_time": "2024-11-13T03:39:32.531Z"
   },
   {
    "duration": 93,
    "start_time": "2024-11-13T03:39:32.560Z"
   },
   {
    "duration": 102,
    "start_time": "2024-11-13T03:39:32.731Z"
   },
   {
    "duration": 4,
    "start_time": "2024-11-13T03:39:32.839Z"
   },
   {
    "duration": 3,
    "start_time": "2024-11-13T03:39:32.848Z"
   },
   {
    "duration": 5,
    "start_time": "2024-11-13T03:39:32.930Z"
   },
   {
    "duration": 396,
    "start_time": "2024-11-13T03:39:32.937Z"
   },
   {
    "duration": 439,
    "start_time": "2024-11-13T03:39:33.335Z"
   },
   {
    "duration": 385,
    "start_time": "2024-11-13T03:39:33.776Z"
   },
   {
    "duration": 279,
    "start_time": "2024-11-13T03:39:34.163Z"
   },
   {
    "duration": 899,
    "start_time": "2024-11-13T03:54:32.711Z"
   },
   {
    "duration": 217,
    "start_time": "2024-11-13T03:54:33.613Z"
   },
   {
    "duration": 3,
    "start_time": "2024-11-13T03:54:33.832Z"
   },
   {
    "duration": 44,
    "start_time": "2024-11-13T03:54:33.836Z"
   },
   {
    "duration": 67,
    "start_time": "2024-11-13T03:54:33.883Z"
   },
   {
    "duration": 43,
    "start_time": "2024-11-13T03:54:33.952Z"
   },
   {
    "duration": 6,
    "start_time": "2024-11-13T03:54:33.996Z"
   },
   {
    "duration": 40,
    "start_time": "2024-11-13T03:54:34.032Z"
   },
   {
    "duration": 186,
    "start_time": "2024-11-13T03:54:34.074Z"
   },
   {
    "duration": 172,
    "start_time": "2024-11-13T03:54:34.263Z"
   },
   {
    "duration": 3,
    "start_time": "2024-11-13T03:54:34.437Z"
   },
   {
    "duration": 3,
    "start_time": "2024-11-13T03:54:34.442Z"
   },
   {
    "duration": 7,
    "start_time": "2024-11-13T03:54:34.447Z"
   },
   {
    "duration": 470,
    "start_time": "2024-11-13T03:54:34.457Z"
   },
   {
    "duration": 444,
    "start_time": "2024-11-13T03:54:34.932Z"
   },
   {
    "duration": 395,
    "start_time": "2024-11-13T03:54:35.381Z"
   },
   {
    "duration": 282,
    "start_time": "2024-11-13T03:54:35.778Z"
   },
   {
    "duration": 5,
    "start_time": "2024-11-13T03:55:31.170Z"
   },
   {
    "duration": 2663,
    "start_time": "2024-11-13T15:59:39.416Z"
   },
   {
    "duration": 286,
    "start_time": "2024-11-13T15:59:42.081Z"
   },
   {
    "duration": 3,
    "start_time": "2024-11-13T15:59:42.369Z"
   },
   {
    "duration": 58,
    "start_time": "2024-11-13T15:59:42.375Z"
   },
   {
    "duration": 40,
    "start_time": "2024-11-13T15:59:42.434Z"
   },
   {
    "duration": 69,
    "start_time": "2024-11-13T15:59:42.475Z"
   },
   {
    "duration": 5,
    "start_time": "2024-11-13T15:59:42.546Z"
   },
   {
    "duration": 249,
    "start_time": "2024-11-13T15:59:42.552Z"
   },
   {
    "duration": 240,
    "start_time": "2024-11-13T15:59:42.802Z"
   },
   {
    "duration": 248,
    "start_time": "2024-11-13T15:59:43.045Z"
   },
   {
    "duration": 3,
    "start_time": "2024-11-13T15:59:43.294Z"
   },
   {
    "duration": 11,
    "start_time": "2024-11-13T15:59:43.299Z"
   },
   {
    "duration": 4,
    "start_time": "2024-11-13T15:59:43.312Z"
   },
   {
    "duration": 401,
    "start_time": "2024-11-13T15:59:43.318Z"
   },
   {
    "duration": 376,
    "start_time": "2024-11-13T15:59:43.721Z"
   },
   {
    "duration": 372,
    "start_time": "2024-11-13T15:59:44.098Z"
   },
   {
    "duration": 282,
    "start_time": "2024-11-13T15:59:44.472Z"
   },
   {
    "duration": 6,
    "start_time": "2024-11-13T16:00:15.565Z"
   },
   {
    "duration": 381,
    "start_time": "2024-11-13T16:00:17.221Z"
   },
   {
    "duration": 4,
    "start_time": "2024-11-13T16:00:30.184Z"
   },
   {
    "duration": 118,
    "start_time": "2024-11-13T16:00:32.297Z"
   },
   {
    "duration": 7,
    "start_time": "2024-11-13T16:00:36.378Z"
   },
   {
    "duration": 143,
    "start_time": "2024-11-13T16:00:40.705Z"
   },
   {
    "duration": 4,
    "start_time": "2024-11-13T16:00:44.960Z"
   },
   {
    "duration": 166,
    "start_time": "2024-11-13T16:00:46.616Z"
   },
   {
    "duration": 5,
    "start_time": "2024-11-13T16:00:53.321Z"
   },
   {
    "duration": 178,
    "start_time": "2024-11-13T16:00:55.274Z"
   },
   {
    "duration": 4,
    "start_time": "2024-11-13T16:02:50.408Z"
   },
   {
    "duration": 302,
    "start_time": "2024-11-13T16:02:53.159Z"
   },
   {
    "duration": 923,
    "start_time": "2024-11-13T16:03:04.925Z"
   },
   {
    "duration": 225,
    "start_time": "2024-11-13T16:03:05.850Z"
   },
   {
    "duration": 3,
    "start_time": "2024-11-13T16:03:06.077Z"
   },
   {
    "duration": 56,
    "start_time": "2024-11-13T16:03:06.082Z"
   },
   {
    "duration": 41,
    "start_time": "2024-11-13T16:03:06.140Z"
   },
   {
    "duration": 59,
    "start_time": "2024-11-13T16:03:06.182Z"
   },
   {
    "duration": 4,
    "start_time": "2024-11-13T16:03:06.242Z"
   },
   {
    "duration": 383,
    "start_time": "2024-11-13T16:03:06.248Z"
   },
   {
    "duration": 0,
    "start_time": "2024-11-13T16:03:06.633Z"
   },
   {
    "duration": 0,
    "start_time": "2024-11-13T16:03:06.634Z"
   },
   {
    "duration": 0,
    "start_time": "2024-11-13T16:03:06.635Z"
   },
   {
    "duration": 0,
    "start_time": "2024-11-13T16:03:06.636Z"
   },
   {
    "duration": 0,
    "start_time": "2024-11-13T16:03:06.637Z"
   },
   {
    "duration": 0,
    "start_time": "2024-11-13T16:03:06.638Z"
   },
   {
    "duration": 0,
    "start_time": "2024-11-13T16:03:06.639Z"
   },
   {
    "duration": 0,
    "start_time": "2024-11-13T16:03:06.640Z"
   },
   {
    "duration": 0,
    "start_time": "2024-11-13T16:03:06.641Z"
   },
   {
    "duration": 947,
    "start_time": "2024-11-13T16:04:09.429Z"
   },
   {
    "duration": 227,
    "start_time": "2024-11-13T16:04:10.378Z"
   },
   {
    "duration": 4,
    "start_time": "2024-11-13T16:04:10.606Z"
   },
   {
    "duration": 44,
    "start_time": "2024-11-13T16:04:10.613Z"
   },
   {
    "duration": 65,
    "start_time": "2024-11-13T16:04:10.659Z"
   },
   {
    "duration": 39,
    "start_time": "2024-11-13T16:04:10.726Z"
   },
   {
    "duration": 5,
    "start_time": "2024-11-13T16:04:10.767Z"
   },
   {
    "duration": 403,
    "start_time": "2024-11-13T16:04:10.774Z"
   },
   {
    "duration": 0,
    "start_time": "2024-11-13T16:04:11.179Z"
   },
   {
    "duration": 0,
    "start_time": "2024-11-13T16:04:11.180Z"
   },
   {
    "duration": 0,
    "start_time": "2024-11-13T16:04:11.182Z"
   },
   {
    "duration": 0,
    "start_time": "2024-11-13T16:04:11.184Z"
   },
   {
    "duration": 0,
    "start_time": "2024-11-13T16:04:11.185Z"
   },
   {
    "duration": 0,
    "start_time": "2024-11-13T16:04:11.187Z"
   },
   {
    "duration": 0,
    "start_time": "2024-11-13T16:04:11.188Z"
   },
   {
    "duration": 0,
    "start_time": "2024-11-13T16:04:11.208Z"
   },
   {
    "duration": 0,
    "start_time": "2024-11-13T16:04:11.210Z"
   },
   {
    "duration": 873,
    "start_time": "2024-11-13T16:04:45.505Z"
   },
   {
    "duration": 219,
    "start_time": "2024-11-13T16:04:46.380Z"
   },
   {
    "duration": 3,
    "start_time": "2024-11-13T16:04:46.601Z"
   },
   {
    "duration": 46,
    "start_time": "2024-11-13T16:04:46.609Z"
   },
   {
    "duration": 56,
    "start_time": "2024-11-13T16:04:46.657Z"
   },
   {
    "duration": 41,
    "start_time": "2024-11-13T16:04:46.714Z"
   },
   {
    "duration": 4,
    "start_time": "2024-11-13T16:04:46.757Z"
   },
   {
    "duration": 49,
    "start_time": "2024-11-13T16:04:46.763Z"
   },
   {
    "duration": 107,
    "start_time": "2024-11-13T16:04:46.813Z"
   },
   {
    "duration": 97,
    "start_time": "2024-11-13T16:04:46.929Z"
   },
   {
    "duration": 5,
    "start_time": "2024-11-13T16:04:47.029Z"
   },
   {
    "duration": 3,
    "start_time": "2024-11-13T16:04:47.111Z"
   },
   {
    "duration": 6,
    "start_time": "2024-11-13T16:04:47.119Z"
   },
   {
    "duration": 485,
    "start_time": "2024-11-13T16:04:47.126Z"
   },
   {
    "duration": 432,
    "start_time": "2024-11-13T16:04:47.613Z"
   },
   {
    "duration": 383,
    "start_time": "2024-11-13T16:04:48.047Z"
   },
   {
    "duration": 285,
    "start_time": "2024-11-13T16:04:48.431Z"
   },
   {
    "duration": 2615,
    "start_time": "2024-11-13T16:38:33.802Z"
   },
   {
    "duration": 296,
    "start_time": "2024-11-13T16:38:36.419Z"
   },
   {
    "duration": 3,
    "start_time": "2024-11-13T16:38:36.717Z"
   },
   {
    "duration": 48,
    "start_time": "2024-11-13T16:38:36.722Z"
   },
   {
    "duration": 67,
    "start_time": "2024-11-13T16:38:36.772Z"
   },
   {
    "duration": 41,
    "start_time": "2024-11-13T16:38:36.841Z"
   },
   {
    "duration": 28,
    "start_time": "2024-11-13T16:38:36.884Z"
   },
   {
    "duration": 21,
    "start_time": "2024-11-13T16:38:36.914Z"
   },
   {
    "duration": 95,
    "start_time": "2024-11-13T16:38:36.937Z"
   },
   {
    "duration": 25,
    "start_time": "2024-11-13T16:38:37.108Z"
   },
   {
    "duration": 5,
    "start_time": "2024-11-13T16:38:37.212Z"
   },
   {
    "duration": 3,
    "start_time": "2024-11-13T16:38:37.219Z"
   },
   {
    "duration": 6,
    "start_time": "2024-11-13T16:38:37.227Z"
   },
   {
    "duration": 456,
    "start_time": "2024-11-13T16:38:37.235Z"
   },
   {
    "duration": 394,
    "start_time": "2024-11-13T16:38:37.693Z"
   },
   {
    "duration": 389,
    "start_time": "2024-11-13T16:38:38.089Z"
   },
   {
    "duration": 281,
    "start_time": "2024-11-13T16:38:38.480Z"
   },
   {
    "duration": 5,
    "start_time": "2024-11-13T17:18:20.382Z"
   },
   {
    "duration": 551,
    "start_time": "2024-11-13T17:18:23.608Z"
   },
   {
    "duration": 5,
    "start_time": "2024-11-13T17:20:45.079Z"
   },
   {
    "duration": 116,
    "start_time": "2024-11-13T17:20:46.595Z"
   },
   {
    "duration": 4,
    "start_time": "2024-11-13T17:23:30.903Z"
   },
   {
    "duration": 21,
    "start_time": "2024-11-13T17:23:32.526Z"
   },
   {
    "duration": 5,
    "start_time": "2024-11-13T17:25:26.948Z"
   },
   {
    "duration": 22,
    "start_time": "2024-11-13T17:25:29.328Z"
   },
   {
    "duration": 4,
    "start_time": "2024-11-13T17:39:22.954Z"
   },
   {
    "duration": 23,
    "start_time": "2024-11-13T17:39:28.217Z"
   },
   {
    "duration": 4,
    "start_time": "2024-11-13T17:39:39.544Z"
   },
   {
    "duration": 23,
    "start_time": "2024-11-13T17:39:42.500Z"
   },
   {
    "duration": 927,
    "start_time": "2024-11-13T18:05:30.830Z"
   },
   {
    "duration": 228,
    "start_time": "2024-11-13T18:05:31.759Z"
   },
   {
    "duration": 3,
    "start_time": "2024-11-13T18:05:31.989Z"
   },
   {
    "duration": 64,
    "start_time": "2024-11-13T18:05:31.994Z"
   },
   {
    "duration": 83,
    "start_time": "2024-11-13T18:05:32.062Z"
   },
   {
    "duration": 73,
    "start_time": "2024-11-13T18:05:32.147Z"
   },
   {
    "duration": 8,
    "start_time": "2024-11-13T18:05:32.222Z"
   },
   {
    "duration": 36,
    "start_time": "2024-11-13T18:05:32.233Z"
   },
   {
    "duration": 152,
    "start_time": "2024-11-13T18:05:32.270Z"
   },
   {
    "duration": 105,
    "start_time": "2024-11-13T18:05:32.424Z"
   },
   {
    "duration": 5,
    "start_time": "2024-11-13T18:05:32.531Z"
   },
   {
    "duration": 4,
    "start_time": "2024-11-13T18:05:32.538Z"
   },
   {
    "duration": 71,
    "start_time": "2024-11-13T18:05:32.544Z"
   },
   {
    "duration": 458,
    "start_time": "2024-11-13T18:05:32.623Z"
   },
   {
    "duration": 468,
    "start_time": "2024-11-13T18:05:33.083Z"
   },
   {
    "duration": 394,
    "start_time": "2024-11-13T18:05:33.553Z"
   },
   {
    "duration": 315,
    "start_time": "2024-11-13T18:05:33.948Z"
   },
   {
    "duration": 5,
    "start_time": "2024-11-13T18:21:07.928Z"
   },
   {
    "duration": 42,
    "start_time": "2024-11-13T18:21:10.960Z"
   },
   {
    "duration": 5,
    "start_time": "2024-11-13T18:21:19.379Z"
   },
   {
    "duration": 23,
    "start_time": "2024-11-13T18:21:23.584Z"
   },
   {
    "duration": 5,
    "start_time": "2024-11-13T18:33:41.909Z"
   },
   {
    "duration": 24,
    "start_time": "2024-11-13T18:33:44.630Z"
   },
   {
    "duration": 23,
    "start_time": "2024-11-13T18:33:47.695Z"
   },
   {
    "duration": 5,
    "start_time": "2024-11-13T18:33:58.670Z"
   },
   {
    "duration": 23,
    "start_time": "2024-11-13T18:34:02.577Z"
   },
   {
    "duration": 22,
    "start_time": "2024-11-13T18:34:05.926Z"
   },
   {
    "duration": 19,
    "start_time": "2024-11-13T18:34:16.654Z"
   },
   {
    "duration": 5,
    "start_time": "2024-11-13T18:35:29.261Z"
   },
   {
    "duration": 20,
    "start_time": "2024-11-13T18:35:32.238Z"
   },
   {
    "duration": 20,
    "start_time": "2024-11-13T18:35:38.557Z"
   },
   {
    "duration": 4,
    "start_time": "2024-11-13T18:35:50.969Z"
   },
   {
    "duration": 5,
    "start_time": "2024-11-13T18:35:55.422Z"
   },
   {
    "duration": 17,
    "start_time": "2024-11-13T18:35:58.182Z"
   },
   {
    "duration": 5,
    "start_time": "2024-11-13T18:36:04.594Z"
   },
   {
    "duration": 19,
    "start_time": "2024-11-13T18:36:06.723Z"
   },
   {
    "duration": 20,
    "start_time": "2024-11-13T18:36:08.561Z"
   },
   {
    "duration": 19,
    "start_time": "2024-11-13T18:36:10.307Z"
   },
   {
    "duration": 890,
    "start_time": "2024-11-13T18:59:41.030Z"
   },
   {
    "duration": 233,
    "start_time": "2024-11-13T18:59:41.922Z"
   },
   {
    "duration": 4,
    "start_time": "2024-11-13T18:59:42.157Z"
   },
   {
    "duration": 53,
    "start_time": "2024-11-13T18:59:42.163Z"
   },
   {
    "duration": 40,
    "start_time": "2024-11-13T18:59:42.218Z"
   },
   {
    "duration": 65,
    "start_time": "2024-11-13T18:59:42.259Z"
   },
   {
    "duration": 5,
    "start_time": "2024-11-13T18:59:42.325Z"
   },
   {
    "duration": 26,
    "start_time": "2024-11-13T18:59:42.331Z"
   },
   {
    "duration": 71,
    "start_time": "2024-11-13T18:59:42.358Z"
   },
   {
    "duration": 101,
    "start_time": "2024-11-13T18:59:42.431Z"
   },
   {
    "duration": 75,
    "start_time": "2024-11-13T18:59:42.534Z"
   },
   {
    "duration": 3,
    "start_time": "2024-11-13T18:59:42.611Z"
   },
   {
    "duration": 6,
    "start_time": "2024-11-13T18:59:42.618Z"
   },
   {
    "duration": 454,
    "start_time": "2024-11-13T18:59:42.629Z"
   },
   {
    "duration": 424,
    "start_time": "2024-11-13T18:59:43.085Z"
   },
   {
    "duration": 380,
    "start_time": "2024-11-13T18:59:43.511Z"
   },
   {
    "duration": 289,
    "start_time": "2024-11-13T18:59:43.894Z"
   },
   {
    "duration": 222,
    "start_time": "2024-11-13T19:27:22.552Z"
   },
   {
    "duration": 8,
    "start_time": "2024-11-13T19:27:57.882Z"
   },
   {
    "duration": 5,
    "start_time": "2024-11-13T19:30:29.572Z"
   },
   {
    "duration": 8,
    "start_time": "2024-11-13T19:30:40.524Z"
   },
   {
    "duration": 8,
    "start_time": "2024-11-13T19:35:10.493Z"
   },
   {
    "duration": 8,
    "start_time": "2024-11-13T19:35:14.040Z"
   },
   {
    "duration": 8,
    "start_time": "2024-11-13T19:35:18.960Z"
   },
   {
    "duration": 910,
    "start_time": "2024-11-13T21:59:12.947Z"
   },
   {
    "duration": 231,
    "start_time": "2024-11-13T21:59:13.859Z"
   },
   {
    "duration": 4,
    "start_time": "2024-11-13T21:59:14.092Z"
   },
   {
    "duration": 47,
    "start_time": "2024-11-13T21:59:14.098Z"
   },
   {
    "duration": 41,
    "start_time": "2024-11-13T21:59:14.147Z"
   },
   {
    "duration": 40,
    "start_time": "2024-11-13T21:59:14.210Z"
   },
   {
    "duration": 5,
    "start_time": "2024-11-13T21:59:14.252Z"
   },
   {
    "duration": 50,
    "start_time": "2024-11-13T21:59:14.259Z"
   },
   {
    "duration": 108,
    "start_time": "2024-11-13T21:59:14.311Z"
   },
   {
    "duration": 93,
    "start_time": "2024-11-13T21:59:14.424Z"
   },
   {
    "duration": 4,
    "start_time": "2024-11-13T21:59:14.518Z"
   },
   {
    "duration": 3,
    "start_time": "2024-11-13T21:59:14.525Z"
   },
   {
    "duration": 83,
    "start_time": "2024-11-13T21:59:14.529Z"
   },
   {
    "duration": 266,
    "start_time": "2024-11-13T21:59:14.614Z"
   },
   {
    "duration": 285,
    "start_time": "2024-11-13T21:59:14.882Z"
   },
   {
    "duration": 222,
    "start_time": "2024-11-13T21:59:15.169Z"
   },
   {
    "duration": 130,
    "start_time": "2024-11-13T21:59:15.394Z"
   },
   {
    "duration": 8,
    "start_time": "2024-11-13T21:59:15.525Z"
   },
   {
    "duration": 3,
    "start_time": "2024-11-13T22:06:15.203Z"
   },
   {
    "duration": 922,
    "start_time": "2024-11-13T22:06:21.542Z"
   },
   {
    "duration": 220,
    "start_time": "2024-11-13T22:06:22.467Z"
   },
   {
    "duration": 3,
    "start_time": "2024-11-13T22:06:22.689Z"
   },
   {
    "duration": 55,
    "start_time": "2024-11-13T22:06:22.693Z"
   },
   {
    "duration": 58,
    "start_time": "2024-11-13T22:06:22.751Z"
   },
   {
    "duration": 38,
    "start_time": "2024-11-13T22:06:22.811Z"
   },
   {
    "duration": 5,
    "start_time": "2024-11-13T22:06:22.851Z"
   },
   {
    "duration": 53,
    "start_time": "2024-11-13T22:06:22.857Z"
   },
   {
    "duration": 100,
    "start_time": "2024-11-13T22:06:22.912Z"
   },
   {
    "duration": 101,
    "start_time": "2024-11-13T22:06:23.013Z"
   },
   {
    "duration": 6,
    "start_time": "2024-11-13T22:06:23.116Z"
   },
   {
    "duration": 4,
    "start_time": "2024-11-13T22:06:23.126Z"
   },
   {
    "duration": 76,
    "start_time": "2024-11-13T22:06:23.134Z"
   },
   {
    "duration": 259,
    "start_time": "2024-11-13T22:06:23.214Z"
   },
   {
    "duration": 294,
    "start_time": "2024-11-13T22:06:23.475Z"
   },
   {
    "duration": 239,
    "start_time": "2024-11-13T22:06:23.771Z"
   },
   {
    "duration": 131,
    "start_time": "2024-11-13T22:06:24.012Z"
   },
   {
    "duration": 8,
    "start_time": "2024-11-13T22:06:24.145Z"
   },
   {
    "duration": 2,
    "start_time": "2024-11-13T22:32:00.342Z"
   },
   {
    "duration": 879,
    "start_time": "2024-11-13T22:34:43.559Z"
   },
   {
    "duration": 222,
    "start_time": "2024-11-13T22:34:44.441Z"
   },
   {
    "duration": 3,
    "start_time": "2024-11-13T22:34:44.665Z"
   },
   {
    "duration": 49,
    "start_time": "2024-11-13T22:34:44.671Z"
   },
   {
    "duration": 42,
    "start_time": "2024-11-13T22:34:44.722Z"
   },
   {
    "duration": 73,
    "start_time": "2024-11-13T22:34:44.767Z"
   },
   {
    "duration": 6,
    "start_time": "2024-11-13T22:34:44.843Z"
   },
   {
    "duration": 58,
    "start_time": "2024-11-13T22:34:44.851Z"
   },
   {
    "duration": 101,
    "start_time": "2024-11-13T22:34:44.911Z"
   },
   {
    "duration": 105,
    "start_time": "2024-11-13T22:34:45.014Z"
   },
   {
    "duration": 5,
    "start_time": "2024-11-13T22:34:45.122Z"
   },
   {
    "duration": 5,
    "start_time": "2024-11-13T22:34:45.131Z"
   },
   {
    "duration": 4,
    "start_time": "2024-11-13T22:34:45.209Z"
   },
   {
    "duration": 5,
    "start_time": "2024-11-13T22:34:45.216Z"
   },
   {
    "duration": 293,
    "start_time": "2024-11-13T22:34:45.223Z"
   },
   {
    "duration": 295,
    "start_time": "2024-11-13T22:34:45.518Z"
   },
   {
    "duration": 247,
    "start_time": "2024-11-13T22:34:45.814Z"
   },
   {
    "duration": 6,
    "start_time": "2024-11-13T22:40:29.498Z"
   },
   {
    "duration": 5,
    "start_time": "2024-11-13T22:41:42.674Z"
   },
   {
    "duration": 910,
    "start_time": "2024-11-13T22:41:48.316Z"
   },
   {
    "duration": 223,
    "start_time": "2024-11-13T22:41:49.228Z"
   },
   {
    "duration": 4,
    "start_time": "2024-11-13T22:41:49.452Z"
   },
   {
    "duration": 58,
    "start_time": "2024-11-13T22:41:49.457Z"
   },
   {
    "duration": 48,
    "start_time": "2024-11-13T22:41:49.518Z"
   },
   {
    "duration": 67,
    "start_time": "2024-11-13T22:41:49.567Z"
   },
   {
    "duration": 5,
    "start_time": "2024-11-13T22:41:49.636Z"
   },
   {
    "duration": 26,
    "start_time": "2024-11-13T22:41:49.643Z"
   },
   {
    "duration": 100,
    "start_time": "2024-11-13T22:41:49.713Z"
   },
   {
    "duration": 101,
    "start_time": "2024-11-13T22:41:49.814Z"
   },
   {
    "duration": 2,
    "start_time": "2024-11-13T22:41:49.917Z"
   },
   {
    "duration": 4,
    "start_time": "2024-11-13T22:41:49.921Z"
   },
   {
    "duration": 4,
    "start_time": "2024-11-13T22:41:49.927Z"
   },
   {
    "duration": 5,
    "start_time": "2024-11-13T22:41:50.010Z"
   },
   {
    "duration": 6,
    "start_time": "2024-11-13T22:41:50.016Z"
   },
   {
    "duration": 285,
    "start_time": "2024-11-13T22:41:50.024Z"
   },
   {
    "duration": 313,
    "start_time": "2024-11-13T22:41:50.310Z"
   },
   {
    "duration": 304,
    "start_time": "2024-11-13T22:41:50.625Z"
   },
   {
    "duration": 6,
    "start_time": "2024-11-13T22:42:23.842Z"
   },
   {
    "duration": 5,
    "start_time": "2024-11-13T22:42:50.524Z"
   },
   {
    "duration": 950,
    "start_time": "2024-11-13T22:43:39.925Z"
   },
   {
    "duration": 214,
    "start_time": "2024-11-13T22:43:40.878Z"
   },
   {
    "duration": 3,
    "start_time": "2024-11-13T22:43:41.093Z"
   },
   {
    "duration": 49,
    "start_time": "2024-11-13T22:43:41.098Z"
   },
   {
    "duration": 64,
    "start_time": "2024-11-13T22:43:41.150Z"
   },
   {
    "duration": 38,
    "start_time": "2024-11-13T22:43:41.216Z"
   },
   {
    "duration": 5,
    "start_time": "2024-11-13T22:43:41.256Z"
   },
   {
    "duration": 47,
    "start_time": "2024-11-13T22:43:41.263Z"
   },
   {
    "duration": 103,
    "start_time": "2024-11-13T22:43:41.312Z"
   },
   {
    "duration": 95,
    "start_time": "2024-11-13T22:43:41.417Z"
   },
   {
    "duration": 3,
    "start_time": "2024-11-13T22:43:41.514Z"
   },
   {
    "duration": 3,
    "start_time": "2024-11-13T22:43:41.518Z"
   },
   {
    "duration": 3,
    "start_time": "2024-11-13T22:43:41.523Z"
   },
   {
    "duration": 82,
    "start_time": "2024-11-13T22:43:41.529Z"
   },
   {
    "duration": 6,
    "start_time": "2024-11-13T22:43:41.613Z"
   },
   {
    "duration": 5,
    "start_time": "2024-11-13T22:43:41.621Z"
   },
   {
    "duration": 5,
    "start_time": "2024-11-13T22:43:41.628Z"
   },
   {
    "duration": 282,
    "start_time": "2024-11-13T22:43:41.635Z"
   },
   {
    "duration": 291,
    "start_time": "2024-11-13T22:43:41.919Z"
   },
   {
    "duration": 235,
    "start_time": "2024-11-13T22:43:42.212Z"
   },
   {
    "duration": 2,
    "start_time": "2024-11-13T22:54:44.268Z"
   },
   {
    "duration": 4,
    "start_time": "2024-11-13T22:56:05.366Z"
   },
   {
    "duration": 159,
    "start_time": "2024-11-14T02:30:33.761Z"
   }
  ],
  "kernelspec": {
   "display_name": "Python [conda env:base] *",
   "language": "python",
   "name": "conda-base-py"
  },
  "language_info": {
   "codemirror_mode": {
    "name": "ipython",
    "version": 3
   },
   "file_extension": ".py",
   "mimetype": "text/x-python",
   "name": "python",
   "nbconvert_exporter": "python",
   "pygments_lexer": "ipython3",
   "version": "3.11.7"
  },
  "toc": {
   "base_numbering": 1,
   "nav_menu": {},
   "number_sections": true,
   "sideBar": true,
   "skip_h1_title": true,
   "title_cell": "Table of Contents",
   "title_sidebar": "Contents",
   "toc_cell": false,
   "toc_position": {
    "height": "calc(100% - 180px)",
    "left": "10px",
    "top": "150px",
    "width": "303.517px"
   },
   "toc_section_display": true,
   "toc_window_display": true
  }
 },
 "nbformat": 4,
 "nbformat_minor": 4
}
